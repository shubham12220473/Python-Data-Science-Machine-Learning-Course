{
  "cells": [
    {
      "cell_type": "markdown",
      "metadata": {
        "id": "bEbvMqWf7uLO"
      },
      "source": [
        "\n",
        "# Data Cleaning and Normalization\n",
        "\n",
        "Definition:\n",
        "\n",
        "* Data Cleaning: Data cleaning involves identifying and correcting (or removing) errors and inconsistencies in data to improve its quality. Common tasks include handling missing values, removing duplicates, correcting errors, and ensuring consistency in data formats.\n",
        "\n",
        "Normalization: Normalization is the process of scaling numerical data to a standard range, typically between 0 and 1, or transforming it to have a mean of 0 and a standard deviation of 1. This process helps improve the performance of machine learning algorithms and ensures that all features contribute equally to the result.\n",
        "\n",
        "# Use Case in Real Life:\n",
        "* Preparing Data for Machine Learning: Handle missing values and remove duplicates to ensure clean data. Normalize features to improve the performance of machine learning algorithms.\n",
        "\n",
        "* Financial Data Analysis: Correct errors in transaction data and fill missing values.\n",
        "\n",
        "Normalize financial metrics for comparison across different scales.\n",
        "\n",
        "* Customer Data Management: Ensure consistency in customer records and correct erroneous entries. Normalize customer age and income data for segmentation analysis.\n",
        "\n",
        "# Loading the Dataset"
      ]
    },
    {
      "cell_type": "code",
      "execution_count": 27,
      "metadata": {
        "colab": {
          "base_uri": "https://localhost:8080/"
        },
        "id": "v46yrpsj6nim",
        "outputId": "e988c7d1-15f6-4231-adb5-348fa881b8c3"
      },
      "outputs": [
        {
          "name": "stdout",
          "output_type": "stream",
          "text": [
            "      Name   Age   Salary   Department\n",
            "0    Alice  25.0  50000.0           HR\n",
            "1      Bob  30.0      NaN  Engineering\n",
            "2  Charlie  35.0  70000.0  Engineering\n",
            "3    David   NaN  60000.0           HR\n",
            "4      Eve  28.0  80000.0           HR\n",
            "5    Frank  40.0  55000.0        Sales\n",
            "6    Grace  50.0  85000.0        Sales\n",
            "7     Hank  60.0  90000.0        Sales\n"
          ]
        }
      ],
      "source": [
        "import pandas as pd\n",
        "\n",
        "df = pd.read_csv('sample_data11.csv')\n",
        "print(df)"
      ]
    },
    {
      "cell_type": "markdown",
      "metadata": {
        "id": "TOkWuoWPMnRQ"
      },
      "source": [
        "# Check for missing value"
      ]
    },
    {
      "cell_type": "code",
      "execution_count": 28,
      "metadata": {
        "colab": {
          "base_uri": "https://localhost:8080/"
        },
        "id": "xUhstZ1LKgEf",
        "outputId": "e5d2a357-3aad-4a61-9316-17c3bc85ec64"
      },
      "outputs": [
        {
          "name": "stdout",
          "output_type": "stream",
          "text": [
            "Name          0\n",
            "Age           1\n",
            "Salary        1\n",
            "Department    0\n",
            "dtype: int64\n"
          ]
        }
      ],
      "source": [
        "print(df.isnull().sum())"
      ]
    },
    {
      "cell_type": "code",
      "execution_count": 29,
      "metadata": {
        "colab": {
          "base_uri": "https://localhost:8080/"
        },
        "id": "e_LN6a41Myaa",
        "outputId": "15099bc5-f42e-4579-b5a5-b977be75b9dd"
      },
      "outputs": [
        {
          "name": "stdout",
          "output_type": "stream",
          "text": [
            "<class 'pandas.core.frame.DataFrame'>\n",
            "RangeIndex: 8 entries, 0 to 7\n",
            "Data columns (total 4 columns):\n",
            " #   Column      Non-Null Count  Dtype  \n",
            "---  ------      --------------  -----  \n",
            " 0   Name        8 non-null      object \n",
            " 1   Age         7 non-null      float64\n",
            " 2   Salary      7 non-null      float64\n",
            " 3   Department  8 non-null      object \n",
            "dtypes: float64(2), object(2)\n",
            "memory usage: 384.0+ bytes\n"
          ]
        }
      ],
      "source": [
        "df.info()"
      ]
    },
    {
      "cell_type": "markdown",
      "metadata": {
        "id": "mXBX459oOCB2"
      },
      "source": [
        "# Removing Rows with Missing Values"
      ]
    },
    {
      "cell_type": "code",
      "execution_count": 30,
      "metadata": {
        "colab": {
          "base_uri": "https://localhost:8080/"
        },
        "id": "M2aQHnYiM1XV",
        "outputId": "0596882a-0ff6-4b04-9cb7-48cd000319cd"
      },
      "outputs": [
        {
          "name": "stdout",
          "output_type": "stream",
          "text": [
            "      Name   Age   Salary   Department\n",
            "0    Alice  25.0  50000.0           HR\n",
            "2  Charlie  35.0  70000.0  Engineering\n",
            "4      Eve  28.0  80000.0           HR\n",
            "5    Frank  40.0  55000.0        Sales\n",
            "6    Grace  50.0  85000.0        Sales\n",
            "7     Hank  60.0  90000.0        Sales\n"
          ]
        }
      ],
      "source": [
        "df_cleaned = df.dropna()\n",
        "print(df_cleaned)"
      ]
    },
    {
      "cell_type": "markdown",
      "metadata": {
        "id": "SQHui4MxPAFV"
      },
      "source": [
        "# Filling Missing Values"
      ]
    },
    {
      "cell_type": "code",
      "execution_count": 31,
      "metadata": {
        "colab": {
          "base_uri": "https://localhost:8080/"
        },
        "id": "njfoU3uzOQJy",
        "outputId": "86f9ad96-6e28-49f8-a0b8-3d3fed275479"
      },
      "outputs": [
        {
          "name": "stdout",
          "output_type": "stream",
          "text": [
            "      Name        Age   Salary   Department\n",
            "0    Alice  25.000000  50000.0           HR\n",
            "1      Bob  30.000000  70000.0  Engineering\n",
            "2  Charlie  35.000000  70000.0  Engineering\n",
            "3    David  38.285714  60000.0           HR\n",
            "4      Eve  28.000000  80000.0           HR\n",
            "5    Frank  40.000000  55000.0        Sales\n",
            "6    Grace  50.000000  85000.0        Sales\n",
            "7     Hank  60.000000  90000.0        Sales\n"
          ]
        }
      ],
      "source": [
        "df_filled = df.fillna({\n",
        "    'Age' : df['Age'].mean(),\n",
        "    'Salary' : df['Salary'].mean()\n",
        "})\n",
        "\n",
        "print(df_filled)"
      ]
    },
    {
      "cell_type": "markdown",
      "metadata": {
        "id": "8peXi9B2PfYc"
      },
      "source": [
        "# Forward Fill Method"
      ]
    },
    {
      "cell_type": "code",
      "execution_count": 32,
      "metadata": {
        "colab": {
          "base_uri": "https://localhost:8080/"
        },
        "id": "lcN-DzulPPqL",
        "outputId": "f9feb1c5-85eb-42fe-8c0f-b45dc270b9f2"
      },
      "outputs": [
        {
          "name": "stdout",
          "output_type": "stream",
          "text": [
            "      Name   Age   Salary   Department\n",
            "0    Alice  25.0  50000.0           HR\n",
            "1      Bob  30.0  50000.0  Engineering\n",
            "2  Charlie  35.0  70000.0  Engineering\n",
            "3    David  35.0  60000.0           HR\n",
            "4      Eve  28.0  80000.0           HR\n",
            "5    Frank  40.0  55000.0        Sales\n",
            "6    Grace  50.0  85000.0        Sales\n",
            "7     Hank  60.0  90000.0        Sales\n"
          ]
        }
      ],
      "source": [
        "df_ffill = df.fillna(method='ffill')\n",
        "print(df_ffill)"
      ]
    },
    {
      "cell_type": "markdown",
      "metadata": {
        "id": "jhhcGX3RQhpb"
      },
      "source": [
        "# Backward Fill Method"
      ]
    },
    {
      "cell_type": "code",
      "execution_count": 33,
      "metadata": {
        "colab": {
          "base_uri": "https://localhost:8080/"
        },
        "id": "Upg4Gn0ePsS5",
        "outputId": "10e80b4c-8fd9-4efc-b871-897298dc7e51"
      },
      "outputs": [
        {
          "name": "stdout",
          "output_type": "stream",
          "text": [
            "      Name   Age   Salary   Department\n",
            "0    Alice  25.0  50000.0           HR\n",
            "1      Bob  30.0  70000.0  Engineering\n",
            "2  Charlie  35.0  70000.0  Engineering\n",
            "3    David  28.0  60000.0           HR\n",
            "4      Eve  28.0  80000.0           HR\n",
            "5    Frank  40.0  55000.0        Sales\n",
            "6    Grace  50.0  85000.0        Sales\n",
            "7     Hank  60.0  90000.0        Sales\n"
          ]
        }
      ],
      "source": [
        "df_bfill = df.fillna(method='bfill')\n",
        "print(df_bfill)"
      ]
    },
    {
      "cell_type": "markdown",
      "metadata": {
        "id": "CcLb3jk6RlIx"
      },
      "source": [
        "# Adding and Removing Duplicates"
      ]
    },
    {
      "cell_type": "code",
      "execution_count": 34,
      "metadata": {
        "colab": {
          "base_uri": "https://localhost:8080/"
        },
        "id": "8LSPTceoQxpF",
        "outputId": "885c4c7b-7af7-4d61-87bf-4a6dac7bf31d"
      },
      "outputs": [
        {
          "name": "stdout",
          "output_type": "stream",
          "text": [
            "Before Removing Duplicates: \n",
            "       Name   Age   Salary   Department\n",
            "0    Alice  25.0  50000.0           HR\n",
            "1      Bob  30.0      NaN  Engineering\n",
            "2  Charlie  35.0  70000.0  Engineering\n",
            "3    David   NaN  60000.0           HR\n",
            "4      Eve  28.0  80000.0           HR\n",
            "5    Frank  40.0  55000.0        Sales\n",
            "6    Grace  50.0  85000.0        Sales\n",
            "7     Hank  60.0  90000.0        Sales\n",
            "8    Alice  25.0  50000.0           HR\n",
            "9      Bob  30.0      NaN  Engineering\n",
            "After Removing Duplicates: \n",
            "       Name   Age   Salary   Department\n",
            "0    Alice  25.0  50000.0           HR\n",
            "1      Bob  30.0      NaN  Engineering\n",
            "2  Charlie  35.0  70000.0  Engineering\n",
            "3    David   NaN  60000.0           HR\n",
            "4      Eve  28.0  80000.0           HR\n",
            "5    Frank  40.0  55000.0        Sales\n",
            "6    Grace  50.0  85000.0        Sales\n",
            "7     Hank  60.0  90000.0        Sales\n"
          ]
        }
      ],
      "source": [
        "#Add duplicates rows for demonstration\n",
        "df = pd.concat([df,df.iloc[[0]],df.iloc[[1]]],ignore_index=True)\n",
        "print('Before Removing Duplicates: \\n',df)\n",
        "\n",
        "#Removing duplicate rows\n",
        "df_no_duplicates = df.drop_duplicates()\n",
        "print('After Removing Duplicates: \\n',df_no_duplicates)"
      ]
    },
    {
      "cell_type": "markdown",
      "metadata": {
        "id": "mvmRr5ReTADL"
      },
      "source": [
        "# Replacing Incorrect Values"
      ]
    },
    {
      "cell_type": "code",
      "execution_count": 35,
      "metadata": {
        "colab": {
          "base_uri": "https://localhost:8080/"
        },
        "id": "GFF7cEFJSENb",
        "outputId": "8f3f04aa-333a-4cb5-eac6-8a1601b88fd4"
      },
      "outputs": [
        {
          "name": "stdout",
          "output_type": "stream",
          "text": [
            "      Name   Age   Salary        Department\n",
            "0    Alice  25.0  50000.0    Human Resource\n",
            "1      Bob  30.0      NaN       Engineering\n",
            "2  Charlie  35.0  70000.0       Engineering\n",
            "3    David   NaN  60000.0    Human Resource\n",
            "4      Eve  28.0  80000.0    Human Resource\n",
            "5    Frank  40.0  55000.0  Sales Department\n",
            "6    Grace  50.0  85000.0  Sales Department\n",
            "7     Hank  60.0  90000.0  Sales Department\n",
            "8    Alice  25.0  50000.0    Human Resource\n",
            "9      Bob  30.0      NaN       Engineering\n"
          ]
        }
      ],
      "source": [
        "df_corrected = df.replace({'Department' : {'HR' : 'Human Resource','Sales' : 'Sales Department'}})\n",
        "print(df_corrected)"
      ]
    },
    {
      "cell_type": "markdown",
      "metadata": {
        "id": "qdXBF9-9TnnW"
      },
      "source": [
        "# Ensuring Consistency"
      ]
    },
    {
      "cell_type": "code",
      "execution_count": 36,
      "metadata": {
        "colab": {
          "base_uri": "https://localhost:8080/"
        },
        "id": "JLyX72fbTV62",
        "outputId": "0336fc54-1961-4cfa-b197-20ccec1f86a7"
      },
      "outputs": [
        {
          "name": "stdout",
          "output_type": "stream",
          "text": [
            "      Name   Age   Salary   Department\n",
            "0    Alice  25.0  50000.0           hr\n",
            "1      Bob  30.0      NaN  engineering\n",
            "2  Charlie  35.0  70000.0  engineering\n",
            "3    David   NaN  60000.0           hr\n",
            "4      Eve  28.0  80000.0           hr\n",
            "5    Frank  40.0  55000.0        sales\n",
            "6    Grace  50.0  85000.0        sales\n",
            "7     Hank  60.0  90000.0        sales\n",
            "8    Alice  25.0  50000.0           hr\n",
            "9      Bob  30.0      NaN  engineering\n"
          ]
        }
      ],
      "source": [
        "#Convert all department names to lower case for ensuring consistency\n",
        "df['Department'] = df['Department'].str.lower()\n",
        "print(df)"
      ]
    },
    {
      "cell_type": "markdown",
      "metadata": {
        "id": "eBMGdzLyX3k_"
      },
      "source": [
        "# Min-Max Normalization"
      ]
    },
    {
      "cell_type": "code",
      "execution_count": 37,
      "metadata": {
        "colab": {
          "base_uri": "https://localhost:8080/"
        },
        "id": "LCJmXHgHT_JJ",
        "outputId": "5d598dda-f399-45ec-a335-dc0802007117"
      },
      "outputs": [
        {
          "name": "stdout",
          "output_type": "stream",
          "text": [
            "      Name   Age   Salary   Department\n",
            "0    Alice  25.0  50000.0           hr\n",
            "1      Bob  30.0      NaN  engineering\n",
            "2  Charlie  35.0  70000.0  engineering\n",
            "3    David   NaN  60000.0           hr\n",
            "4      Eve  28.0  80000.0           hr\n",
            "5    Frank  40.0  55000.0        sales\n",
            "6    Grace  50.0  85000.0        sales\n",
            "7     Hank  60.0  90000.0        sales\n",
            "8    Alice  25.0  50000.0           hr\n",
            "9      Bob  30.0      NaN  engineering\n",
            "========================================\n",
            "      Name       Age  Salary   Department\n",
            "0    Alice  0.000000   0.000           hr\n",
            "1      Bob  0.142857     NaN  engineering\n",
            "2  Charlie  0.285714   0.500  engineering\n",
            "3    David       NaN   0.250           hr\n",
            "4      Eve  0.085714   0.750           hr\n",
            "5    Frank  0.428571   0.125        sales\n",
            "6    Grace  0.714286   0.875        sales\n",
            "7     Hank  1.000000   1.000        sales\n",
            "8    Alice  0.000000   0.000           hr\n",
            "9      Bob  0.142857     NaN  engineering\n"
          ]
        }
      ],
      "source": [
        "#Apply Min-Max Normalization using formula\n",
        "df_normalized = df.copy()\n",
        "for col in ['Age' , 'Salary']:\n",
        "  df_normalized[col] = (df[col] - df[col].min()) / (df[col].max() - df[col].min())\n",
        "\n",
        "#Original Data Frame\n",
        "print(df)\n",
        "print('========================================')\n",
        "#Normalized values\n",
        "print(df_normalized)"
      ]
    },
    {
      "cell_type": "markdown",
      "metadata": {
        "id": "TQEOw2LEZvBq"
      },
      "source": [
        "# Advantages:\n",
        "\n",
        "Ensures that all features contribute equally to the analysis.\n",
        "\n",
        "Helps improve the performance of machine learning algorithms.\n",
        "\n",
        "Simplifies the interpretation of coefficients in linear models.\n",
        "\n",
        "# Disadvantages:\n",
        "\n",
        "* Sensitive to outliers, as the range is determined by the minimum and maximum values.\n",
        "\n",
        "* Not suitable for data with a non-linear distribution, as it can distort the original data distribution."
      ]
    },
    {
      "cell_type": "code",
      "execution_count": 37,
      "metadata": {
        "id": "SToqwzs2Ye5u"
      },
      "outputs": [],
      "source": []
    }
  ],
  "metadata": {
    "colab": {
      "authorship_tag": "ABX9TyPdQoV7RgsfOGHx0S2ALET5",
      "include_colab_link": true,
      "provenance": []
    },
    "kernelspec": {
      "display_name": "Python 3",
      "name": "python3"
    },
    "language_info": {
      "name": "python"
    }
  },
  "nbformat": 4,
  "nbformat_minor": 0
}
