{
  "cells": [
    {
      "cell_type": "markdown",
      "metadata": {
        "id": "7NNcr_lzEnkt"
      },
      "source": [
        "## **Data Manipulation and Analysis with NumPy**\n",
        "\n",
        "**Definition:** NumPy is a fundamental package for scientific computing with Python. It provides support for arrays, matrices, and a large collection of mathematical functions to operate on these data structures. NumPy arrays are more efficient and provide better performance for numerical operations compared to Python's built-in lists.\n",
        "\n",
        "**Use Case in Real Life:** NumPy can be used in various scientific computing scenarios, such as statistical analysis, signal processing, and image processing.\n",
        "\n",
        "Array object in numpy is called ndarray"
      ]
    },
    {
      "cell_type": "markdown",
      "metadata": {
        "id": "vEYnbbGKIY97"
      },
      "source": [
        "\n",
        "\n",
        "\n",
        "**Creating a NumPy Array from a List**"
      ]
    },
    {
      "cell_type": "code",
      "execution_count": 45,
      "metadata": {
        "colab": {
          "base_uri": "https://localhost:8080/"
        },
        "id": "mfQk4iTtDXh6",
        "outputId": "edd4e597-3238-479b-da68-5e4bcd9033e9"
      },
      "outputs": [
        {
          "name": "stdout",
          "output_type": "stream",
          "text": [
            "Requirement already satisfied: numpy in /usr/local/lib/python3.10/dist-packages (1.25.2)\n"
          ]
        }
      ],
      "source": [
        "!pip install numpy"
      ]
    },
    {
      "cell_type": "code",
      "execution_count": 46,
      "metadata": {
        "colab": {
          "base_uri": "https://localhost:8080/"
        },
        "id": "ucaHrQaqHMI3",
        "outputId": "b75fab93-95e7-4941-aba0-5bacd6123cf5"
      },
      "outputs": [
        {
          "name": "stdout",
          "output_type": "stream",
          "text": [
            "[1 2 3 4 5 6]\n",
            "[[1 2 3]\n",
            " [4 5 6]]\n"
          ]
        }
      ],
      "source": [
        "import numpy as np  # aliasing numpy as np\n",
        "\n",
        "# Creating a 1D array from the List\n",
        "arr1 = np.array([1, 2, 3, 4, 5, 6])\n",
        "print(arr1)\n",
        "\n",
        "# Creating a 2D array from the List\n",
        "arr2 = np.array([[1, 2, 3], [4, 5, 6]])  # it consists of 1D arrays as its elements\n",
        "print(arr2)\n"
      ]
    },
    {
      "cell_type": "markdown",
      "metadata": {
        "id": "Rt7WcDeNH_5J"
      },
      "source": [
        "## **Creating array with functions**"
      ]
    },
    {
      "cell_type": "code",
      "execution_count": 47,
      "metadata": {
        "colab": {
          "base_uri": "https://localhost:8080/"
        },
        "id": "fNkVdsPmH0l9",
        "outputId": "0a943e96-6d4c-48c7-d09a-27e98cb55a49"
      },
      "outputs": [
        {
          "name": "stdout",
          "output_type": "stream",
          "text": [
            "[[0. 0. 0.]\n",
            " [0. 0. 0.]\n",
            " [0. 0. 0.]]\n"
          ]
        }
      ],
      "source": [
        "#Creating an array of zeros\n",
        "\n",
        "zeros = np.zeros((3,3))      #First argument is number of rows and second is number of columns\n",
        "print(zeros)"
      ]
    },
    {
      "cell_type": "code",
      "execution_count": 48,
      "metadata": {
        "colab": {
          "base_uri": "https://localhost:8080/"
        },
        "id": "HuL08I8oI5fW",
        "outputId": "d3ca0bb2-5874-464d-eb75-8e7df57ad370"
      },
      "outputs": [
        {
          "name": "stdout",
          "output_type": "stream",
          "text": [
            "[[1. 1. 1.]\n",
            " [1. 1. 1.]]\n"
          ]
        }
      ],
      "source": [
        "#Creating an  array of ones\n",
        "\n",
        "ones = np.ones((2,3))\n",
        "print(ones)"
      ]
    },
    {
      "cell_type": "code",
      "execution_count": 49,
      "metadata": {
        "colab": {
          "base_uri": "https://localhost:8080/"
        },
        "id": "6J_5bu1dI8RQ",
        "outputId": "726fd146-5d84-4ef3-bc24-db1fbb663e83"
      },
      "outputs": [
        {
          "name": "stdout",
          "output_type": "stream",
          "text": [
            "[10 12 14 16 18]\n"
          ]
        }
      ],
      "source": [
        "#Creating an array with a range of values\n",
        "\n",
        "range_arr = np.arange(10,20,2)  #First argument is start value, second is end value which is exclusive also and third is step value\n",
        "print(range_arr)"
      ]
    },
    {
      "cell_type": "code",
      "execution_count": 50,
      "metadata": {
        "colab": {
          "base_uri": "https://localhost:8080/"
        },
        "id": "cS19ZrhfK_Uw",
        "outputId": "c3bd943b-7aaf-408c-cdb7-53dd96c33bfa"
      },
      "outputs": [
        {
          "name": "stdout",
          "output_type": "stream",
          "text": [
            "[[0.98270504 0.33067485 0.70969767]\n",
            " [0.09328    0.48456865 0.24047926]\n",
            " [0.07845873 0.36209717 0.95787444]]\n"
          ]
        }
      ],
      "source": [
        "#Creating an array with random values\n",
        "random_arr = np.random.rand(3,3)    #This will give the random floating point numbers from 0 to 1\n",
        "print(random_arr)"
      ]
    },
    {
      "cell_type": "markdown",
      "metadata": {
        "id": "uYIUszW4My3u"
      },
      "source": [
        "# **Basic Array Operations - Element Wise Operations**"
      ]
    },
    {
      "cell_type": "code",
      "execution_count": 51,
      "metadata": {
        "colab": {
          "base_uri": "https://localhost:8080/"
        },
        "id": "wvFZXGLpLwR-",
        "outputId": "16921e32-c823-4aa2-9379-ca077e0ba023"
      },
      "outputs": [
        {
          "name": "stdout",
          "output_type": "stream",
          "text": [
            "[3 4 5 6 7]\n"
          ]
        }
      ],
      "source": [
        "arr = np.array([1,2,3,4,5])\n",
        "\n",
        "#Element - wise addition\n",
        "print(arr+2)"
      ]
    },
    {
      "cell_type": "code",
      "execution_count": 52,
      "metadata": {
        "colab": {
          "base_uri": "https://localhost:8080/"
        },
        "id": "4Ebfra0dNG-L",
        "outputId": "c45b1287-fbc2-40e4-e170-18f4cb7ac06b"
      },
      "outputs": [
        {
          "name": "stdout",
          "output_type": "stream",
          "text": [
            "[-1  0  1  2  3]\n"
          ]
        }
      ],
      "source": [
        "#Element - wise subtraction\n",
        "print(arr-2)"
      ]
    },
    {
      "cell_type": "code",
      "execution_count": 53,
      "metadata": {
        "colab": {
          "base_uri": "https://localhost:8080/"
        },
        "id": "Wob0WJzPN5VZ",
        "outputId": "02690d09-acad-4eb9-ab62-2ba638a893b5"
      },
      "outputs": [
        {
          "name": "stdout",
          "output_type": "stream",
          "text": [
            "[ 2  4  6  8 10]\n"
          ]
        }
      ],
      "source": [
        "#Element - wise multiplication\n",
        "print(arr*2)"
      ]
    },
    {
      "cell_type": "code",
      "execution_count": 54,
      "metadata": {
        "colab": {
          "base_uri": "https://localhost:8080/"
        },
        "id": "crhcbzScN9Qh",
        "outputId": "1c71f1c1-a4d1-4e01-ce49-e80d7360ee3c"
      },
      "outputs": [
        {
          "name": "stdout",
          "output_type": "stream",
          "text": [
            "[0.5 1.  1.5 2.  2.5]\n"
          ]
        }
      ],
      "source": [
        "#Element - wise division\n",
        "print(arr/2)"
      ]
    },
    {
      "cell_type": "markdown",
      "metadata": {
        "id": "svdIXl_POG3_"
      },
      "source": [
        "# **Basic Array Operations - Mathematical Operations**"
      ]
    },
    {
      "cell_type": "code",
      "execution_count": 55,
      "metadata": {
        "colab": {
          "base_uri": "https://localhost:8080/"
        },
        "id": "GI0QfM30OB9m",
        "outputId": "8c2171d2-c5a1-4a4e-99d4-68a52360d784"
      },
      "outputs": [
        {
          "name": "stdout",
          "output_type": "stream",
          "text": [
            "[1.         1.41421356 1.73205081 2.         2.23606798 2.44948974]\n"
          ]
        }
      ],
      "source": [
        "arr = np.array([1,2,3,4,5,6])\n",
        "\n",
        "#Square Root\n",
        "print(np.sqrt(arr))"
      ]
    },
    {
      "cell_type": "code",
      "execution_count": 56,
      "metadata": {
        "colab": {
          "base_uri": "https://localhost:8080/"
        },
        "id": "Dk9BemdEOoAq",
        "outputId": "2aeb3d0f-b0d3-47f5-f8d4-14974bddc4df"
      },
      "outputs": [
        {
          "name": "stdout",
          "output_type": "stream",
          "text": [
            "[  2.71828183   7.3890561   20.08553692  54.59815003 148.4131591\n",
            " 403.42879349]\n"
          ]
        }
      ],
      "source": [
        "#Exponential\n",
        "print(np.exp(arr))"
      ]
    },
    {
      "cell_type": "code",
      "execution_count": 57,
      "metadata": {
        "colab": {
          "base_uri": "https://localhost:8080/"
        },
        "id": "vZWio0u3OtCO",
        "outputId": "617becec-1acd-4ff9-f1b9-1b130a4f3b28"
      },
      "outputs": [
        {
          "name": "stdout",
          "output_type": "stream",
          "text": [
            "[0.         0.69314718 1.09861229 1.38629436 1.60943791 1.79175947]\n"
          ]
        }
      ],
      "source": [
        "#Logarithmic\n",
        "print(np.log(arr))"
      ]
    },
    {
      "cell_type": "code",
      "execution_count": 58,
      "metadata": {
        "colab": {
          "base_uri": "https://localhost:8080/"
        },
        "id": "2NaulJ31PHJM",
        "outputId": "9b7bc3c9-e0ca-4822-9e7d-aaf62eb1551b"
      },
      "outputs": [
        {
          "name": "stdout",
          "output_type": "stream",
          "text": [
            "[ 0.84147098  0.90929743  0.14112001 -0.7568025  -0.95892427 -0.2794155 ]\n"
          ]
        }
      ],
      "source": [
        "#Sine\n",
        "print(np.sin(arr))"
      ]
    },
    {
      "cell_type": "markdown",
      "metadata": {
        "id": "kRXTqQ2rPUNl"
      },
      "source": [
        "# **Indexing and Slicing - Indexing**"
      ]
    },
    {
      "cell_type": "code",
      "execution_count": 59,
      "metadata": {
        "colab": {
          "base_uri": "https://localhost:8080/"
        },
        "id": "8KkBnOKaPI1j",
        "outputId": "84cbed59-d4d2-49ad-be94-7ecb2ff45d48"
      },
      "outputs": [
        {
          "name": "stdout",
          "output_type": "stream",
          "text": [
            "1\n",
            "5\n",
            "4\n"
          ]
        }
      ],
      "source": [
        "arr = np.array([1,2,3,4,5])\n",
        "\n",
        "print(arr[0]) #First element\n",
        "print(arr[-1]) #Last element\n",
        "print(arr[-2]) #LastSecond Element"
      ]
    },
    {
      "cell_type": "markdown",
      "metadata": {
        "id": "EqYUTJfiQis9"
      },
      "source": [
        "# **Indexing and Slicing - Slicing**\n",
        "\n",
        "---\n",
        "\n"
      ]
    },
    {
      "cell_type": "code",
      "execution_count": 60,
      "metadata": {
        "colab": {
          "base_uri": "https://localhost:8080/"
        },
        "id": "O1rqzldxP3q2",
        "outputId": "8cd49aac-dfc5-4baf-c8f7-0e9e82a115e7"
      },
      "outputs": [
        {
          "name": "stdout",
          "output_type": "stream",
          "text": [
            "[2 3 4]\n",
            "[1 2 3]\n",
            "[3 4 5]\n"
          ]
        }
      ],
      "source": [
        "arr = np.array([1,2,3,4,5])\n",
        "\n",
        "print(arr[1:4])  #Elements from index 1 to 3\n",
        "print(arr[:3])   #Elements from start upto index 2\n",
        "print(arr[2:])   #Elements from index 2 to end"
      ]
    },
    {
      "cell_type": "markdown",
      "metadata": {
        "id": "nbrhsPHwRgdy"
      },
      "source": [
        "# **Indexing and Slicing - Advanced Indexing**"
      ]
    },
    {
      "cell_type": "code",
      "execution_count": 61,
      "metadata": {
        "colab": {
          "base_uri": "https://localhost:8080/"
        },
        "id": "5AW6jOOhRL9U",
        "outputId": "0c4bc66d-bcc2-495d-acf6-959d71a536e1"
      },
      "outputs": [
        {
          "name": "stdout",
          "output_type": "stream",
          "text": [
            "[4 5]\n",
            "[1 3 5]\n"
          ]
        }
      ],
      "source": [
        "arr = np.array([1,2,3,4,5])\n",
        "\n",
        "#Boolean Indexing\n",
        "print(arr[arr > 3])\n",
        "\n",
        "#Fancy Indexing\n",
        "indices = [0, 2, 4]\n",
        "print(arr[indices])"
      ]
    },
    {
      "cell_type": "markdown",
      "metadata": {
        "id": "C1N92g3eS4iX"
      },
      "source": [
        "# **Reshaping the arrays**"
      ]
    },
    {
      "cell_type": "code",
      "execution_count": 62,
      "metadata": {
        "colab": {
          "base_uri": "https://localhost:8080/"
        },
        "id": "hUBI8JqbR7vS",
        "outputId": "0aaaaacd-2437-4719-932e-cb58641e6d84"
      },
      "outputs": [
        {
          "name": "stdout",
          "output_type": "stream",
          "text": [
            "[[1 2]\n",
            " [3 4]\n",
            " [5 6]]\n"
          ]
        }
      ],
      "source": [
        "arr = np.array([[1,2,3] , [4,5,6]])\n",
        "\n",
        "reshaped_array = arr.reshape(3,2)   #Total no of elements must remain constant\n",
        "print(reshaped_array)"
      ]
    },
    {
      "cell_type": "markdown",
      "metadata": {
        "id": "omccZfkcTVN1"
      },
      "source": [
        "# **Transposing the arrays**"
      ]
    },
    {
      "cell_type": "code",
      "execution_count": 63,
      "metadata": {
        "colab": {
          "base_uri": "https://localhost:8080/"
        },
        "id": "zEuRQJfiTLts",
        "outputId": "c85da3a2-608b-49fc-96ec-4d04b89a6081"
      },
      "outputs": [
        {
          "name": "stdout",
          "output_type": "stream",
          "text": [
            "[[1 4]\n",
            " [2 5]\n",
            " [3 6]]\n"
          ]
        }
      ],
      "source": [
        "arr = np.array([[1,2,3],[4,5,6]])\n",
        "\n",
        "transposed_array = arr.T\n",
        "print(transposed_array)"
      ]
    },
    {
      "cell_type": "markdown",
      "metadata": {
        "id": "iNHf1xwKT4_f"
      },
      "source": [
        "# **Aggregation Function - Sum and Mean**"
      ]
    },
    {
      "cell_type": "code",
      "execution_count": 64,
      "metadata": {
        "colab": {
          "base_uri": "https://localhost:8080/"
        },
        "id": "5Xb0xNNGT0Sn",
        "outputId": "03d6e0f0-4291-4965-af9c-d1ec613670a4"
      },
      "outputs": [
        {
          "name": "stdout",
          "output_type": "stream",
          "text": [
            "21\n"
          ]
        }
      ],
      "source": [
        "arr = np.array([[1,2,3],[4,5,6]])\n",
        "\n",
        "#Sum of all the elements of an array\n",
        "sum = np.sum(arr)\n",
        "print(sum)"
      ]
    },
    {
      "cell_type": "code",
      "execution_count": 65,
      "metadata": {
        "colab": {
          "base_uri": "https://localhost:8080/"
        },
        "id": "rLKzVWIhUmlB",
        "outputId": "9f3072ab-aae9-4629-817f-e0b08715ffc5"
      },
      "outputs": [
        {
          "name": "stdout",
          "output_type": "stream",
          "text": [
            "[5 7 9]\n"
          ]
        }
      ],
      "source": [
        "#Column wise sum\n",
        "sum = np.sum(arr,axis=0)\n",
        "print(sum)"
      ]
    },
    {
      "cell_type": "code",
      "execution_count": 66,
      "metadata": {
        "colab": {
          "base_uri": "https://localhost:8080/"
        },
        "id": "uO7iYWGmUtyL",
        "outputId": "eace78e8-6786-4bc2-85a5-d68b6a2b27e9"
      },
      "outputs": [
        {
          "name": "stdout",
          "output_type": "stream",
          "text": [
            "[ 6 15]\n"
          ]
        }
      ],
      "source": [
        "#Row wise sum\n",
        "sum = np.sum(arr,axis=1)\n",
        "print(sum)"
      ]
    },
    {
      "cell_type": "code",
      "execution_count": 67,
      "metadata": {
        "colab": {
          "base_uri": "https://localhost:8080/"
        },
        "id": "qPF5h6ytUzm6",
        "outputId": "4db1c429-c7fd-43d9-88b9-c3d000c44b41"
      },
      "outputs": [
        {
          "name": "stdout",
          "output_type": "stream",
          "text": [
            "3.5\n"
          ]
        }
      ],
      "source": [
        "# Mean\n",
        "mean = np.mean(arr)\n",
        "print(mean)"
      ]
    },
    {
      "cell_type": "markdown",
      "metadata": {
        "id": "QRG-81zCVQzT"
      },
      "source": [
        "# **Aggregate Functions - Min and Max**"
      ]
    },
    {
      "cell_type": "code",
      "execution_count": 68,
      "metadata": {
        "colab": {
          "base_uri": "https://localhost:8080/"
        },
        "id": "fGONh0iGVC12",
        "outputId": "96432556-af76-45b0-daee-3165622762d7"
      },
      "outputs": [
        {
          "name": "stdout",
          "output_type": "stream",
          "text": [
            "6\n"
          ]
        }
      ],
      "source": [
        "arr = np.array([[1,2,3],[4,5,6]])\n",
        "\n",
        "#Maximum\n",
        "max = np.max(arr)\n",
        "print(max)"
      ]
    },
    {
      "cell_type": "code",
      "execution_count": 69,
      "metadata": {
        "colab": {
          "base_uri": "https://localhost:8080/"
        },
        "id": "DzL6JNBHVgim",
        "outputId": "8738761e-65b2-4951-e3e7-119b5488e9d8"
      },
      "outputs": [
        {
          "name": "stdout",
          "output_type": "stream",
          "text": [
            "1\n"
          ]
        }
      ],
      "source": [
        "#Minimum\n",
        "min = np.min(arr)\n",
        "print(min)"
      ]
    },
    {
      "cell_type": "code",
      "execution_count": 70,
      "metadata": {
        "colab": {
          "base_uri": "https://localhost:8080/"
        },
        "id": "gwGAEe51VnYv",
        "outputId": "8c183f1f-acea-46e2-a05c-811404186539"
      },
      "outputs": [
        {
          "name": "stdout",
          "output_type": "stream",
          "text": [
            "0\n"
          ]
        }
      ],
      "source": [
        "#Index of a minimum value\n",
        "index = np.argmin(arr)\n",
        "\n",
        "print(index)"
      ]
    },
    {
      "cell_type": "code",
      "execution_count": 71,
      "metadata": {
        "colab": {
          "base_uri": "https://localhost:8080/"
        },
        "id": "iUmTooSpV0h1",
        "outputId": "0b9601e3-8e84-4fa4-8cbc-7881793b6ca1"
      },
      "outputs": [
        {
          "name": "stdout",
          "output_type": "stream",
          "text": [
            "5\n"
          ]
        }
      ],
      "source": [
        "#Index of a maximum value\n",
        "index = np.argmax(arr)\n",
        "\n",
        "print(index)"
      ]
    },
    {
      "cell_type": "code",
      "execution_count": 71,
      "metadata": {
        "id": "4Aslsq1UWJQx"
      },
      "outputs": [],
      "source": []
    }
  ],
  "metadata": {
    "colab": {
      "authorship_tag": "ABX9TyPcrDlklqjeaWWLpEMayMkg",
      "include_colab_link": true,
      "provenance": []
    },
    "kernelspec": {
      "display_name": "Python 3",
      "name": "python3"
    },
    "language_info": {
      "name": "python"
    }
  },
  "nbformat": 4,
  "nbformat_minor": 0
}
