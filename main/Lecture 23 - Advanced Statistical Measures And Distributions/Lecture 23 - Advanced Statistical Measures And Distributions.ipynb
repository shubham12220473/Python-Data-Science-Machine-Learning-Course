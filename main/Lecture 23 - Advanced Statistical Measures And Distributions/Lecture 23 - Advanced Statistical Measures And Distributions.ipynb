{
  "cells": [
    {
      "cell_type": "markdown",
      "metadata": {
        "id": "VrchCpBmPfdu"
      },
      "source": [
        "Descriptive Statistics - Mean\n",
        "\n",
        "\n",
        "Definition:\n",
        "\n",
        "* The mean is the average of a set of numbers. It is calculated by summing all the numbers and dividing by the count of numbers.\n",
        "\n",
        "Use Case:\n",
        "\n",
        "* The mean is used in market analysis to summarize the average value of a dataset, such as average customer age or average income."
      ]
    },
    {
      "cell_type": "code",
      "execution_count": 22,
      "metadata": {
        "colab": {
          "base_uri": "https://localhost:8080/"
        },
        "id": "hP4eAH6ZPP_g",
        "outputId": "1688459b-db82-4718-a1b1-795f68966da5"
      },
      "outputs": [
        {
          "name": "stdout",
          "output_type": "stream",
          "text": [
            "Mean Age: 40.0\n",
            "Mean Salary: 1348628.0\n"
          ]
        }
      ],
      "source": [
        "import pandas as pd\n",
        "\n",
        "#Sample data\n",
        "data = {'Age' : [25,30,35,40,45,50,55,60,32,28],\n",
        "        'Salary' : [50000,1200000,700000,30000,249583,859343,74922,600000,4829484,4892948]}\n",
        "\n",
        "df = pd.DataFrame(data)\n",
        "\n",
        "#Mean\n",
        "mean_age = df['Age'].mean()\n",
        "mean_salary = df['Salary'].mean()\n",
        "\n",
        "print(\"Mean Age:\", mean_age)\n",
        "print(\"Mean Salary:\", mean_salary)"
      ]
    },
    {
      "cell_type": "markdown",
      "metadata": {
        "id": "LNrBWJLdT3Et"
      },
      "source": [
        "Descriptive Statistics - Median\n",
        "\n",
        "Definition:\n",
        "\n",
        "* The median is the middle value in a set of numbers. It separates the higher half from the lower half of the dataset.\n",
        "\n",
        "Use Case:\n",
        "\n",
        "* The median is used to understand the central tendency of data, especially when the data has outliers, such as median household income."
      ]
    },
    {
      "cell_type": "code",
      "execution_count": 23,
      "metadata": {
        "colab": {
          "base_uri": "https://localhost:8080/"
        },
        "id": "h1cFbRL0TE_V",
        "outputId": "a1ccc4d6-53aa-4f6b-9e39-73c7a3583d60"
      },
      "outputs": [
        {
          "name": "stdout",
          "output_type": "stream",
          "text": [
            "Median Age: 37.5\n",
            "Median Salary: 650000.0\n"
          ]
        }
      ],
      "source": [
        "#Median\n",
        "median_age = df['Age'].median()\n",
        "median_salary = df['Salary'].median()\n",
        "\n",
        "print(\"Median Age:\", median_age)\n",
        "print(\"Median Salary:\", median_salary)"
      ]
    },
    {
      "cell_type": "markdown",
      "metadata": {
        "id": "CbwZv9M0jfiU"
      },
      "source": [
        "Descriptive Statistics - Mode\n",
        "\n",
        "Definition:\n",
        "\n",
        "* The mode is the value that appears most frequently in a dataset.\n",
        "\n",
        "Use Case:\n",
        "\n",
        "* The mode is used in retail to find the most common product sold or the most common transaction amount"
      ]
    },
    {
      "cell_type": "code",
      "execution_count": 24,
      "metadata": {
        "colab": {
          "base_uri": "https://localhost:8080/"
        },
        "id": "RAUFhWaLAqX8",
        "outputId": "a8b344cb-4293-4ebc-9521-857bd41aeca7"
      },
      "outputs": [
        {
          "name": "stdout",
          "output_type": "stream",
          "text": [
            "Mode Age: 25\n",
            "Mode Salary: 30000\n"
          ]
        }
      ],
      "source": [
        "#Mode\n",
        "mode_age = df['Age'].mode() [0]\n",
        "mode_salary = df['Salary'].mode() [0]\n",
        "\n",
        "print(\"Mode Age:\", mode_age)\n",
        "print(\"Mode Salary:\", mode_salary)"
      ]
    },
    {
      "cell_type": "markdown",
      "metadata": {
        "id": "3LS_e0wslDll"
      },
      "source": [
        "Descriptive Statistics - Standard Deviation\n",
        "\n",
        "Definition:\n",
        "\n",
        "* The standard deviation measures the amount of variation or dispersion in a set of values. It indicates how much the values differ from the mean.\n",
        "\n",
        "Use Case:\n",
        "\n",
        "* Standard deviation is used in finance to measure the risk or volatility of an investment."
      ]
    },
    {
      "cell_type": "code",
      "execution_count": 25,
      "metadata": {
        "colab": {
          "base_uri": "https://localhost:8080/"
        },
        "id": "GNiSqhYxkbrS",
        "outputId": "0542c71a-2bdc-4745-84e9-15e9c9d7201a"
      },
      "outputs": [
        {
          "name": "stdout",
          "output_type": "stream",
          "text": [
            "Standard Deviation Age: 12.055427546683417\n",
            "Standard Deviation Salary: 1890815.7082986992\n"
          ]
        }
      ],
      "source": [
        "#Standard Deviation\n",
        "std_age = df['Age'].std()\n",
        "std_salary = df['Salary'].std()\n",
        "\n",
        "print(\"Standard Deviation Age:\", std_age)\n",
        "print(\"Standard Deviation Salary:\", std_salary)"
      ]
    },
    {
      "cell_type": "markdown",
      "metadata": {
        "id": "4stMRpkvm5uH"
      },
      "source": [
        "Descriptive Statistics - Variance\n",
        "\n",
        "Definition:\n",
        "\n",
        "* The variance measures the dispersion of a set of values. It is the average of the squared differences from the mean.\n",
        "\n",
        "Use Case:\n",
        "\n",
        "* Variance is used in finance to assess the spread between numbers in a dataset, such as investment returns."
      ]
    },
    {
      "cell_type": "code",
      "execution_count": 26,
      "metadata": {
        "colab": {
          "base_uri": "https://localhost:8080/"
        },
        "id": "h3zy7FmomTi3",
        "outputId": "3120ef1b-b04a-490b-a50d-5a2c722f0a3a"
      },
      "outputs": [
        {
          "name": "stdout",
          "output_type": "stream",
          "text": [
            "Variance Age: 145.33333333333334\n",
            "Variance Salary: 3575184042749.1113\n"
          ]
        }
      ],
      "source": [
        "#Variance\n",
        "var_age = df['Age'].var()\n",
        "var_salary = df['Salary'].var()\n",
        "\n",
        "print(\"Variance Age:\", var_age)\n",
        "print(\"Variance Salary:\", var_salary)"
      ]
    },
    {
      "cell_type": "markdown",
      "metadata": {
        "id": "uvOF1JT8o81k"
      },
      "source": [
        "Probability Distributions - Normal Distribution\n",
        "\n",
        "Definition:\n",
        "\n",
        "* The normal distribution is a continuous probability distribution that is symmetrical around the mean. It is also known as the Gaussian distribution.\n",
        "\n",
        "Use Case:\n",
        "\n",
        "* The normal distribution is used in finance to model returns on investment and in quality control to monitor product defects"
      ]
    },
    {
      "cell_type": "code",
      "execution_count": 27,
      "metadata": {
        "colab": {
          "base_uri": "https://localhost:8080/",
          "height": 472
        },
        "id": "da38JSKOo74q",
        "outputId": "130c8d6d-91e9-445d-ca4a-041ea082828d"
      },
      "outputs": [
        {
          "data": {
            "image/png": "[encoded data removed]",
            "text/plain": [
              "<Figure size 640x480 with 1 Axes>"
            ]
          },
          "metadata": {},
          "output_type": "display_data"
        }
      ],
      "source": [
        "import numpy as np\n",
        "import matplotlib.pyplot as plt\n",
        "import scipy.stats as stats\n",
        "\n",
        "#Normal Distribution\n",
        "mu, sigma = 0,0.1\n",
        "s = np.random.normal(mu,sigma,1000)\n",
        "\n",
        "#Ploting the histogram\n",
        "count, bins, ignored = plt.hist(s,30,density=True)\n",
        "plt.plot(bins,1/(sigma*np.sqrt(2*np.pi))*np.exp(-(bins-mu)**2/(2*sigma**2)),linewidth=2,color='r')\n",
        "plt.title(\"Normal Distribution\")\n",
        "plt.xlabel(\"Value\")\n",
        "plt.ylabel(\"Probability\")\n",
        "plt.show()\n"
      ]
    },
    {
      "cell_type": "markdown",
      "metadata": {
        "id": "6IDh8pJAqYmn"
      },
      "source": [
        "Probability Distributions - Binomial Distribution\n",
        "\n",
        "Definition:\n",
        "\n",
        "The binomial distribution is a discrete probability distribution that models the number of successes in a fixed number of trials, with each trial having two possible outcomes.\n",
        "\n",
        "Use Case:\n",
        "\n",
        "* The binomial distribution is used in quality control to model the number of defective items in a batch of products."
      ]
    },
    {
      "cell_type": "code",
      "execution_count": 31,
      "metadata": {
        "colab": {
          "base_uri": "https://localhost:8080/",
          "height": 452
        },
        "id": "FqzUDtTWqWd1",
        "outputId": "beaaf288-a19d-4fe7-80a2-a21bc3a885f3"
      },
      "outputs": [
        {
          "data": {
            "image/png": "[encoded data removed]",
            "text/plain": [
              "<Figure size 640x480 with 1 Axes>"
            ]
          },
          "metadata": {},
          "output_type": "display_data"
        }
      ],
      "source": [
        "#Binomial Distribution\n",
        "n, p =10, 0.5\n",
        "binomial = np.random.binomial(n,p,1000)\n",
        "\n",
        "#Ploting the histogram\n",
        "plt.hist(binomial,bins=10,density=True,alpha = 0.6,color='b')\n",
        "plt.title('Binomial Distribution')\n",
        "plt.show()"
      ]
    },
    {
      "cell_type": "markdown",
      "metadata": {
        "id": "OCRBkjz5sIPC"
      },
      "source": [
        "# Quartiles\n",
        "\n",
        "Definition\n",
        "\n",
        "Quartiles are values that divide a dataset into four equal parts. They are used to understand the distribution of the data and are particularly useful in identifying the spread and the presence of outliers.\n",
        "\n",
        "Key Points\n",
        "\n",
        "1. Q1 (First Quartile): The median of the lower half of the dataset (25th percentile).\n",
        "\n",
        "2. Q2 (Second Quartile or Median): The median of the dataset (50th percentile).\n",
        "\n",
        "3. Q3 (Third Quartile): The median of the upper half of the dataset (75th percentile).\n",
        "\n",
        "4. IQR (Interquartile Range): The difference between the third and first quartiles (IQR-Q3- Q1). IQR is used to measure the spread of the middle 50% of the data.\n",
        "\n",
        "Example Calculation\n",
        "\n",
        "Let's consider a sample dataset: (1, 2, 3, 4, 5, 6, 7, 8, 9, 10].\n",
        "\n",
        "1. Q1: Median of [1, 2, 3, 4, 5] is 3.\n",
        "\n",
        "2. Q2 (Median): Median of the entire dataset is 5.5.\n",
        "\n",
        "3. Q3: Median of [6, 7, 8, 9, 10] is 8.\n",
        "\n",
        "4. IQR: IQR = Q3-Q18-3= 5."
      ]
    },
    {
      "cell_type": "code",
      "execution_count": 29,
      "metadata": {
        "colab": {
          "base_uri": "https://localhost:8080/"
        },
        "id": "IqzHz1QMrqun",
        "outputId": "2c27022e-b747-4c1b-fafe-b0257759f1fd"
      },
      "outputs": [
        {
          "name": "stdout",
          "output_type": "stream",
          "text": [
            "Q1: 3.25\n",
            "Q2: 5.5\n",
            "Q3: 7.75\n",
            "IQR: 4.5\n"
          ]
        }
      ],
      "source": [
        "import numpy as np\n",
        "\n",
        "#Sample data\n",
        "data = [1, 2, 3, 4, 5, 6, 7, 8, 9, 10]\n",
        "\n",
        "#Calculate quartiles\n",
        "Q1=np.percentile(data,25)\n",
        "Q2=np.median(data)\n",
        "Q3=np.percentile(data,75)\n",
        "IQR=Q3-Q1\n",
        "\n",
        "print(\"Q1:\",Q1)\n",
        "print(\"Q2:\",Q2)\n",
        "print(\"Q3:\",Q3)\n",
        "print(\"IQR:\",IQR)"
      ]
    },
    {
      "cell_type": "markdown",
      "metadata": {
        "id": "GQ83qzpVufmA"
      },
      "source": [
        "# Z-Scores\n",
        "\n",
        "Definition\n",
        "\n",
        "A Z-score (or standard score) measures how many standard deviatjons an element is from the mean. It is used to identify outliers and to compare different data points from different normal distributions.\n",
        "\n",
        "Z = (x - μ)/σ\n",
        "\n",
        "μ = Mean\n",
        "σ = Standard Deviation\n",
        "\n",
        " Interpretation\n",
        "\n",
        "* A Z-score of 0 indicates that the data point's score is identical to the mean score.\n",
        "\n",
        "* A Z-score of 1.0 indicates a value that is one standard deviation from the mean.\n",
        "\n",
        "* Z-scores can be positive or negative, indicating whether they are above or below the mean and by how many standard deviations"
      ]
    },
    {
      "cell_type": "code",
      "execution_count": 30,
      "metadata": {
        "colab": {
          "base_uri": "https://localhost:8080/"
        },
        "id": "M9OaHv7UuK_v",
        "outputId": "6d5fd95f-de20-4360-db93-eccef95f4518"
      },
      "outputs": [
        {
          "name": "stdout",
          "output_type": "stream",
          "text": [
            "Z-scores: [-1.5666989036012806, -1.2185435916898848, -0.8703882797784892, -0.5222329678670935, -0.17407765595569785, 0.17407765595569785, 0.5222329678670935, 0.8703882797784892, 1.2185435916898848, 1.5666989036012806]\n"
          ]
        }
      ],
      "source": [
        "import numpy as np\n",
        "\n",
        "#Sample data\n",
        "data = [1, 2, 3, 4, 5, 6, 7, 8, 9, 10]\n",
        "\n",
        "#Calculate mean and standard deviations\n",
        "mean = np.mean(data)\n",
        "std = np.std(data)\n",
        "\n",
        "#Calculate Z-scores\n",
        "z_scores = [(x - mean)/std for x in data]\n",
        "\n",
        "print(\"Z-scores:\", z_scores)\n"
      ]
    },
    {
      "cell_type": "code",
      "execution_count": 30,
      "metadata": {
        "id": "KhBwRv3Fv9yA"
      },
      "outputs": [],
      "source": []
    }
  ],
  "metadata": {
    "colab": {
      "authorship_tag": "ABX9TyMzgTA7NAKkWavgKq8y33TQ",
      "include_colab_link": true,
      "provenance": []
    },
    "kernelspec": {
      "display_name": "Python 3",
      "name": "python3"
    },
    "language_info": {
      "name": "python"
    }
  },
  "nbformat": 4,
  "nbformat_minor": 0
}
