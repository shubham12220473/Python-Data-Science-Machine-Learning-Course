{
  "cells": [
    {
      "cell_type": "markdown",
      "metadata": {
        "id": "YB-bkkZo2CVn"
      },
      "source": [
        "# Handling and Removing Outliers\n",
        "\n",
        "*Definition:*\n",
        "\n",
        "Outliers: Outliers are data points that differ significantly from other observations. They can occur due to variability in the data or experimental errors.\n",
        "\n",
        "Handling Outliers: This involves identifying and deciding whether to remove or adjust outliers to improve the accuracy of statistical analyses and machine learning models.\n",
        "\n",
        "*Use Case in Real Life:*\n",
        "\n",
        "Financial Data Analysis: Identify and remove outliers in financial transaction data to prevent fraudulent activities and improve the accuracy of financial models.\n",
        "\n",
        "Customer Data Management: Clean customer data by handling outliers in age, income, and spending to create accurate customer segments and improve marketing strategies.\n",
        "\n",
        "Health Data Analysis: Detect and handle outliers in patient health records, such as blood pressure and cholesterol levels, to ensure accurate diagnoses and treatment plants."
      ]
    },
    {
      "cell_type": "markdown",
      "metadata": {
        "id": "lJdXMQuv3MJK"
      },
      "source": [
        "# Loading the Dataset"
      ]
    },
    {
      "cell_type": "code",
      "execution_count": 5,
      "metadata": {
        "colab": {
          "base_uri": "https://localhost:8080/"
        },
        "id": "jwPLmQdk1dOo",
        "outputId": "205edd4f-5ef7-487b-8cc0-4c8e666206f3"
      },
      "outputs": [
        {
          "name": "stdout",
          "output_type": "stream",
          "text": [
            "      Name  Age   Salary   Department\n",
            "0    Alice   25    50000           HR\n",
            "1      Bob   30  1200000  Engineering\n",
            "2  Charlie   35    70000  Engineering\n",
            "3    David   50    60000           HR\n",
            "4      Eve   28    80000           HR\n",
            "5    Frank   40    55000        Sales\n",
            "6    Grace   50    85000        Sales\n",
            "7     Hank   60    90000        Sales\n",
            "8      Ivy   32  1500000  Engineering\n",
            "9     Jack   45    62000  Engineering\n"
          ]
        }
      ],
      "source": [
        "import pandas as pd\n",
        "\n",
        "#Load the dataset\n",
        "df = pd.read_csv('outliers_data.csv')\n",
        "print(df)"
      ]
    },
    {
      "cell_type": "markdown",
      "metadata": {
        "id": "ouuw7Yru5-Lt"
      },
      "source": [
        "# Visualizing Outliers using Boxplots"
      ]
    },
    {
      "cell_type": "code",
      "execution_count": 6,
      "metadata": {
        "colab": {
          "base_uri": "https://localhost:8080/",
          "height": 468
        },
        "id": "UOfRWbQr5f6B",
        "outputId": "bf7aaba9-ccc4-4356-d806-0d588c6626d3"
      },
      "outputs": [
        {
          "data": {
            "image/png": "[encoded data removed]",
            "text/plain": [
              "<Figure size 1000x500 with 2 Axes>"
            ]
          },
          "metadata": {},
          "output_type": "display_data"
        }
      ],
      "source": [
        "import matplotlib.pyplot as plt\n",
        "\n",
        "#Boxplot to visualize outliers in the Age column\n",
        "plt.figure(figsize=(10,5))\n",
        "plt.subplot(1,2,1)\n",
        "plt.boxplot(df['Age'].dropna())\n",
        "plt.title('Boxplot of Age')\n",
        "\n",
        "#Boxplot to visualize the outliers in Salary column\n",
        "plt.subplot(1,2,2)\n",
        "plt.boxplot(df['Salary'].dropna())\n",
        "plt.title('Boxplot of Salary')\n",
        "plt.show()"
      ]
    },
    {
      "cell_type": "markdown",
      "metadata": {
        "id": "Q1Eerm4G7i0a"
      },
      "source": [
        "# Handling Outliers - Capping Outliers"
      ]
    },
    {
      "cell_type": "code",
      "execution_count": 7,
      "metadata": {
        "colab": {
          "base_uri": "https://localhost:8080/"
        },
        "id": "DOGJs-_l7DP7",
        "outputId": "9f3a5d05-6988-4e25-9b44-0a06e4addffb"
      },
      "outputs": [
        {
          "name": "stdout",
          "output_type": "stream",
          "text": [
            "Data after capping the outliers using IQR method : \n",
            "      Name  Age   Salary   Department\n",
            "0    Alice   25    50000           HR\n",
            "1      Bob   30  1200000  Engineering\n",
            "2  Charlie   35    70000  Engineering\n",
            "3    David   50    60000           HR\n",
            "4      Eve   28    80000           HR\n",
            "5    Frank   40    55000        Sales\n",
            "6    Grace   50    85000        Sales\n",
            "7     Hank   60    90000        Sales\n",
            "8      Ivy   32  1500000  Engineering\n",
            "9     Jack   45    62000  Engineering\n",
            "Data after capping the outliers using IQR method : \n",
            "      Name  Age    Salary   Department\n",
            "0    Alice   25   50000.0           HR\n",
            "1      Bob   30  131125.0  Engineering\n",
            "2  Charlie   35   70000.0  Engineering\n",
            "3    David   50   60000.0           HR\n",
            "4      Eve   28   80000.0           HR\n",
            "5    Frank   40   55000.0        Sales\n",
            "6    Grace   50   85000.0        Sales\n",
            "7     Hank   60   90000.0        Sales\n",
            "8      Ivy   32  131125.0  Engineering\n",
            "9     Jack   45   62000.0  Engineering\n"
          ]
        }
      ],
      "source": [
        "#Capping the outliers using IQR method\n",
        "df_capped = df.copy()\n",
        "\n",
        "for column in ['Age','Salary']:\n",
        "  Q1 = df_capped[column].quantile(0.25)\n",
        "  Q3 = df_capped[column].quantile(0.75)\n",
        "  IQR = Q3 - Q1\n",
        "  Lower_bound = Q1 - 1.5 * IQR\n",
        "  Upper_bound = Q3 + 1.5 * IQR\n",
        "  df_capped[column] = df_capped[column].apply(lambda x: Upper_bound if x > Upper_bound else Lower_bound if x < Lower_bound else x)\n",
        "\n",
        "  print('Data after capping the outliers using IQR method : ')\n",
        "  print(df_capped)"
      ]
    },
    {
      "cell_type": "markdown",
      "metadata": {
        "id": "NfJlnZAK81N3"
      },
      "source": [
        "# Handling Outliers - Replacing Outliers with Mean / Meadian"
      ]
    },
    {
      "cell_type": "code",
      "execution_count": 8,
      "metadata": {
        "colab": {
          "base_uri": "https://localhost:8080/"
        },
        "id": "VRaTOa828pM3",
        "outputId": "bef8ee6b-f61b-4195-9f2a-5b2cb1ea1424"
      },
      "outputs": [
        {
          "name": "stdout",
          "output_type": "stream",
          "text": [
            "Data after replacing the outliers with median : \n",
            "      Name  Age   Salary   Department\n",
            "0    Alice   25    50000           HR\n",
            "1      Bob   30  1200000  Engineering\n",
            "2  Charlie   35    70000  Engineering\n",
            "3    David   50    60000           HR\n",
            "4      Eve   28    80000           HR\n",
            "5    Frank   40    55000        Sales\n",
            "6    Grace   50    85000        Sales\n",
            "7     Hank   60    90000        Sales\n",
            "8      Ivy   32  1500000  Engineering\n",
            "9     Jack   45    62000  Engineering\n",
            "Data after replacing the outliers with median : \n",
            "      Name  Age   Salary   Department\n",
            "0    Alice   25  50000.0           HR\n",
            "1      Bob   30  75000.0  Engineering\n",
            "2  Charlie   35  70000.0  Engineering\n",
            "3    David   50  60000.0           HR\n",
            "4      Eve   28  80000.0           HR\n",
            "5    Frank   40  55000.0        Sales\n",
            "6    Grace   50  85000.0        Sales\n",
            "7     Hank   60  90000.0        Sales\n",
            "8      Ivy   32  75000.0  Engineering\n",
            "9     Jack   45  62000.0  Engineering\n"
          ]
        }
      ],
      "source": [
        "#Replacing outliers with median values\n",
        "df_replaced = df.copy()\n",
        "for column in ['Age','Salary']:\n",
        "  Q1 = df_replaced[column].quantile(0.25)\n",
        "  Q3 = df_replaced[column].quantile(0.75)\n",
        "  IQR = Q3 - Q1\n",
        "  Lower_bound = Q1 - 1.5 * IQR\n",
        "  Upper_bound = Q3 + 1.5 * IQR\n",
        "  median = df_replaced[column].median()\n",
        "  df_replaced[column] = df_replaced[column].apply(lambda x: median if x > Upper_bound or x < Lower_bound else x)\n",
        "\n",
        "  print('Data after replacing the outliers with median : ')\n",
        "  print(df_replaced)"
      ]
    },
    {
      "cell_type": "code",
      "execution_count": 8,
      "metadata": {
        "id": "vOcOuEVF9aK0"
      },
      "outputs": [],
      "source": []
    }
  ],
  "metadata": {
    "colab": {
      "authorship_tag": "ABX9TyOmnfNWGYE/e2TAFOB5mmxY",
      "include_colab_link": true,
      "provenance": []
    },
    "kernelspec": {
      "display_name": "Python 3",
      "name": "python3"
    },
    "language_info": {
      "name": "python"
    }
  },
  "nbformat": 4,
  "nbformat_minor": 0
}
