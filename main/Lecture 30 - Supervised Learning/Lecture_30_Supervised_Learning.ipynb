{
  "cells": [
    {
      "cell_type": "markdown",
      "metadata": {
        "id": "otanrHZZIKqu"
      },
      "source": [
        "# Machine Learning Algorithms with Scikit-Learn\n",
        "\n",
        "This notebook contains implementations of various machine learning algorithms using Scikit-Learn. Each algorithm is implemented in a separate cell with a brief description of the working steps.\n",
        "\n",
        "#  Linear Regression\n",
        "\n",
        "Linear Regression is used to model the relationship between a dependent variable and one or more independent variables. The goal is to find the line that best fits the data."
      ]
    },
    {
      "cell_type": "code",
      "execution_count": 13,
      "metadata": {
        "colab": {
          "base_uri": "https://localhost:8080/"
        },
        "id": "ncipjSl2IJri",
        "outputId": "306d039a-efed-4a4f-8e23-bf5e223b3186"
      },
      "outputs": [
        {
          "name": "stdout",
          "output_type": "stream",
          "text": [
            "Mean Squared Error :  5.232387818698624\n"
          ]
        }
      ],
      "source": [
        "from sklearn.model_selection import train_test_split\n",
        "from sklearn.linear_model import LinearRegression\n",
        "from sklearn.metrics import mean_squared_error\n",
        "\n",
        "#Generating the synthetic data\n",
        "import numpy as np\n",
        "X = np.random.rand(100, 1)*10\n",
        "y = 2.5 * X + np.random.randn(100, 1) * 2  # y = mx + c\n",
        "\n",
        "#Splitting data into training and testing sets\n",
        "X_train , X_test, y_train , y_test = train_test_split(X, y, test_size = 0.2, random_state = 42)\n",
        "\n",
        "#Training the Model\n",
        "model = LinearRegression()\n",
        "model.fit(X_train,y_train)\n",
        "\n",
        "#Making the prediction\n",
        "y_pred = model.predict(X_test)\n",
        "\n",
        "#Evaluating the model\n",
        "mse = mean_squared_error(y_test, y_pred)\n",
        "print(\"Mean Squared Error : \",mse)"
      ]
    },
    {
      "cell_type": "code",
      "execution_count": 14,
      "metadata": {
        "colab": {
          "base_uri": "https://localhost:8080/"
        },
        "id": "ds8YFtz9LZRN",
        "outputId": "11feb040-0099-425f-85a1-180a6109c393"
      },
      "outputs": [
        {
          "data": {
            "text/plain": [
              "array([[ 6.83341121],\n",
              "       [21.54068063],\n",
              "       [23.49103202],\n",
              "       [ 2.39237584],\n",
              "       [ 3.50738702],\n",
              "       [ 2.91502636],\n",
              "       [ 0.26938526],\n",
              "       [22.58635509],\n",
              "       [12.21858106],\n",
              "       [ 4.53599483],\n",
              "       [12.83122619],\n",
              "       [11.3617735 ],\n",
              "       [19.60310892],\n",
              "       [15.44099321],\n",
              "       [15.41108962],\n",
              "       [11.79501606],\n",
              "       [ 6.85894786],\n",
              "       [13.2778536 ],\n",
              "       [19.17029651],\n",
              "       [ 2.75578589]])"
            ]
          },
          "execution_count": 14,
          "metadata": {},
          "output_type": "execute_result"
        }
      ],
      "source": [
        "y_pred"
      ]
    },
    {
      "cell_type": "code",
      "execution_count": 15,
      "metadata": {
        "colab": {
          "base_uri": "https://localhost:8080/"
        },
        "id": "APDHuOciL5pC",
        "outputId": "24618c35-0f4b-4281-bdc1-23f32effb106"
      },
      "outputs": [
        {
          "data": {
            "text/plain": [
              "array([[ 5.73875108],\n",
              "       [21.92713055],\n",
              "       [25.45541711],\n",
              "       [ 2.85740087],\n",
              "       [ 6.76128159],\n",
              "       [ 7.4086608 ],\n",
              "       [ 2.98600643],\n",
              "       [24.15260711],\n",
              "       [11.48660877],\n",
              "       [ 5.87764808],\n",
              "       [ 8.6241672 ],\n",
              "       [14.957944  ],\n",
              "       [16.86427588],\n",
              "       [13.84672254],\n",
              "       [16.1067107 ],\n",
              "       [11.03605324],\n",
              "       [ 8.86327646],\n",
              "       [13.24688628],\n",
              "       [17.01879185],\n",
              "       [ 5.18346609]])"
            ]
          },
          "execution_count": 15,
          "metadata": {},
          "output_type": "execute_result"
        }
      ],
      "source": [
        "y_test"
      ]
    },
    {
      "cell_type": "markdown",
      "metadata": {
        "id": "1ypoQiFBONEq"
      },
      "source": [
        "# Logistic Regression\n",
        "\n",
        "Logistic Regression is used for binary classification problems. It models the probability of a class label based on one or more independent variables"
      ]
    },
    {
      "cell_type": "code",
      "execution_count": 16,
      "metadata": {
        "colab": {
          "base_uri": "https://localhost:8080/"
        },
        "id": "zu7Xpaw6L8c1",
        "outputId": "8d390b92-5ea0-4cb5-dff8-e3ca8b163f1b"
      },
      "outputs": [
        {
          "name": "stdout",
          "output_type": "stream",
          "text": [
            "Accuracy :  1.0\n"
          ]
        }
      ],
      "source": [
        "from sklearn.datasets import load_iris\n",
        "from sklearn.model_selection import train_test_split\n",
        "from sklearn.linear_model import LogisticRegression\n",
        "from sklearn.metrics import accuracy_score\n",
        "\n",
        "#Loading the iris dataset\n",
        "iris = load_iris()\n",
        "X = iris.data\n",
        "y = iris.target\n",
        "\n",
        "#Using only two classes for binary classification\n",
        "X = X[y != 2]\n",
        "y = y[y != 2]\n",
        "\n",
        "#Splitting data into training and testing sets\n",
        "X_train , X_test, y_train, y_test = train_test_split(X, y, test_size=0.2, random_state = 42)\n",
        "\n",
        "#Training the model\n",
        "model = LogisticRegression()\n",
        "model.fit(X_train, y_train)\n",
        "\n",
        "#Making the prediction\n",
        "y_pred = model.predict(X_test)\n",
        "\n",
        "#Evaluating the model\n",
        "accuracy = accuracy_score(y_test, y_pred)\n",
        "print('Accuracy : ',accuracy)"
      ]
    },
    {
      "cell_type": "markdown",
      "metadata": {
        "id": "JdgOMYMxed5b"
      },
      "source": [
        "# Decision Tree\n",
        "\n",
        "Decision Tree is a non-parametric supervised learning method used for classification and regression. It splits the data into subse based on the most significant attributes.\n"
      ]
    },
    {
      "cell_type": "code",
      "execution_count": 17,
      "metadata": {
        "colab": {
          "base_uri": "https://localhost:8080/"
        },
        "id": "Flg5jSlabbKD",
        "outputId": "d348ece9-9972-482c-9809-f6b4a38a21db"
      },
      "outputs": [
        {
          "name": "stdout",
          "output_type": "stream",
          "text": [
            "Accuracy :  1.0\n"
          ]
        }
      ],
      "source": [
        "from sklearn.datasets import load_iris\n",
        "from sklearn.model_selection import train_test_split\n",
        "from sklearn.tree import DecisionTreeClassifier\n",
        "from sklearn.metrics import accuracy_score\n",
        "\n",
        "#Loading the iris dataset\n",
        "iris = load_iris()\n",
        "X = iris.data\n",
        "y = iris.target\n",
        "\n",
        "#Splitting data into training and testing sets\n",
        "X_train, X_test, y_train, y_test = train_test_split(X, y, test_size=0.2, random_state=42)\n",
        "\n",
        "#Training the model\n",
        "model = DecisionTreeClassifier()\n",
        "model.fit(X_train, y_train)\n",
        "\n",
        "#Making the prediction\n",
        "y_pred = model.predict(X_test)\n",
        "\n",
        "#Evaluating the Model\n",
        "accuracy = accuracy_score(y_test, y_pred)\n",
        "print('Accuracy : ',accuracy)"
      ]
    },
    {
      "cell_type": "markdown",
      "metadata": {
        "id": "qgRrNJlrgj2p"
      },
      "source": [
        "# Support Vector Machine (SVM)\n",
        "\n",
        "Support Vector Machine (SVM) is a supervised learning model used for classification and regression. It finds the hyperplane that best separates the classes in the feature space."
      ]
    },
    {
      "cell_type": "code",
      "execution_count": 18,
      "metadata": {
        "colab": {
          "base_uri": "https://localhost:8080/"
        },
        "id": "7wSmlly_fzIi",
        "outputId": "96e0cd83-33a5-4cac-d9cd-69002d9db058"
      },
      "outputs": [
        {
          "name": "stdout",
          "output_type": "stream",
          "text": [
            "Accuracy :  1.0\n"
          ]
        }
      ],
      "source": [
        "from sklearn.datasets import load_iris\n",
        "from sklearn.model_selection import train_test_split\n",
        "from sklearn.svm import SVC\n",
        "from sklearn.metrics import accuracy_score\n",
        "\n",
        "#Loading the iris dataset\n",
        "iris = load_iris()\n",
        "X = iris.data\n",
        "y = iris.target\n",
        "\n",
        "#Using only two classes for binary classification\n",
        "X = X[y != 2]\n",
        "y = y[y != 2]\n",
        "\n",
        "#Splitting data into training and testing sets\n",
        "X_train, X_test, y_train, y_test = train_test_split(X, y, test_size=0.2, random_state=42)\n",
        "\n",
        "#Training the model\n",
        "model = SVC()\n",
        "model.fit(X_train,y_train)\n",
        "\n",
        "#Making the prediction\n",
        "y_pred = model.predict(X_test)\n",
        "\n",
        "#Evaluating the model\n",
        "accuracy = accuracy_score(y_test, y_pred)\n",
        "print('Accuracy : ',accuracy)\n"
      ]
    },
    {
      "cell_type": "code",
      "execution_count": 19,
      "metadata": {
        "colab": {
          "base_uri": "https://localhost:8080/"
        },
        "id": "CF0lfy1TiI9S",
        "outputId": "d8cb6306-3d36-499f-eaca-717e718264e3"
      },
      "outputs": [
        {
          "data": {
            "text/plain": [
              "array([1, 1, 1, 0, 0, 0, 0, 1, 0, 0, 0, 0, 1, 0, 1, 0, 1, 1, 0, 0])"
            ]
          },
          "execution_count": 19,
          "metadata": {},
          "output_type": "execute_result"
        }
      ],
      "source": [
        "y_pred"
      ]
    },
    {
      "cell_type": "code",
      "execution_count": 20,
      "metadata": {
        "colab": {
          "base_uri": "https://localhost:8080/"
        },
        "id": "aGUnWaUOiK-F",
        "outputId": "58d11f7e-c377-4754-b70b-4ad248d6626c"
      },
      "outputs": [
        {
          "data": {
            "text/plain": [
              "array([[6. , 2.7, 5.1, 1.6],\n",
              "       [5.5, 2.3, 4. , 1.3],\n",
              "       [5.9, 3.2, 4.8, 1.8],\n",
              "       [4.8, 3. , 1.4, 0.3],\n",
              "       [5.1, 3.8, 1.9, 0.4],\n",
              "       [5.1, 3.4, 1.5, 0.2],\n",
              "       [4.6, 3.6, 1. , 0.2],\n",
              "       [5.5, 2.4, 3.8, 1.1],\n",
              "       [5.4, 3.7, 1.5, 0.2],\n",
              "       [5.1, 3.5, 1.4, 0.2],\n",
              "       [5.7, 3.8, 1.7, 0.3],\n",
              "       [4.8, 3.1, 1.6, 0.2],\n",
              "       [6.1, 2.8, 4.7, 1.2],\n",
              "       [5.5, 4.2, 1.4, 0.2],\n",
              "       [5.5, 2.6, 4.4, 1.2],\n",
              "       [5. , 3.6, 1.4, 0.2],\n",
              "       [6.8, 2.8, 4.8, 1.4],\n",
              "       [6.7, 3. , 5. , 1.7],\n",
              "       [4.8, 3. , 1.4, 0.1],\n",
              "       [5.4, 3.4, 1.5, 0.4]])"
            ]
          },
          "execution_count": 20,
          "metadata": {},
          "output_type": "execute_result"
        }
      ],
      "source": [
        "X_test"
      ]
    },
    {
      "cell_type": "code",
      "execution_count": 21,
      "metadata": {
        "colab": {
          "base_uri": "https://localhost:8080/"
        },
        "id": "GkvQjzwjiNgg",
        "outputId": "e3b27b19-fbe7-44b8-df61-0c3b529ced8c"
      },
      "outputs": [
        {
          "data": {
            "text/plain": [
              "array([1, 1, 1, 0, 0, 0, 0, 1, 0, 0, 0, 0, 1, 0, 1, 0, 1, 1, 0, 0])"
            ]
          },
          "execution_count": 21,
          "metadata": {},
          "output_type": "execute_result"
        }
      ],
      "source": [
        "y_test"
      ]
    },
    {
      "cell_type": "code",
      "execution_count": 21,
      "metadata": {
        "id": "Uxeg0JCxiTWV"
      },
      "outputs": [],
      "source": []
    }
  ],
  "metadata": {
    "colab": {
      "authorship_tag": "ABX9TyOPNeUIseSwBiMCkcbJ1KHP",
      "include_colab_link": true,
      "provenance": []
    },
    "kernelspec": {
      "display_name": "Python 3",
      "name": "python3"
    },
    "language_info": {
      "name": "python"
    }
  },
  "nbformat": 4,
  "nbformat_minor": 0
}
