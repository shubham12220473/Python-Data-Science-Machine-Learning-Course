{
  "cells": [
    {
      "cell_type": "markdown",
      "metadata": {
        "id": "ohZSSkivDWI3"
      },
      "source": [
        "# Feature Engineering\n",
        "*Definition:* Feature engineering involves creating new features or transforming existing features to improve the performance of machine learning models. It is a crucial step for achieving better model performance and accuracy.\n",
        "\n",
        "*Purpose:*\n",
        "\n",
        "* Enhance the model's predictive power by providing it with more relevant and useful features.\n",
        "\n",
        "* Allow the model to better understand the underlying patterns in the data.\n",
        "\n",
        "# 1. Handling Missing Values\n",
        "\n",
        "*Definition*\n",
        "\n",
        "Handling missing values is crucial in data preprocessing. Common methods include imputation (replacing missing values with the mean, median, mode, or a specific value) and removing rows or columns with missing values.\n"
      ]
    },
    {
      "cell_type": "code",
      "execution_count": 6,
      "metadata": {
        "colab": {
          "base_uri": "https://localhost:8080/"
        },
        "id": "c4J2PDT894CU",
        "outputId": "107ab553-38cd-4841-89d7-8bf3f02e9f71"
      },
      "outputs": [
        {
          "name": "stdout",
          "output_type": "stream",
          "text": [
            "After Imputation: \n",
            "    Feature 1  Feature 2  Feature 3\n",
            "0        1.0   2.000000       3.75\n",
            "1        2.0   3.666667       3.00\n",
            "2        3.0   4.000000       3.50\n",
            "3        4.0   5.000000       4.00\n",
            "4        5.0   3.666667       4.50\n"
          ]
        }
      ],
      "source": [
        "import pandas as pd\n",
        "from sklearn.impute import SimpleImputer\n",
        "\n",
        "#Sample Data\n",
        "data = {\n",
        "    'Feature 1' : [1.0, 2.0, None, 4.0, 5.0],\n",
        "    'Feature 2' : [2.0, None, 4.0, 5.0, None],\n",
        "    'Feature 3' : [None, 3.0, 3.5, 4.0, 4.5]\n",
        "}\n",
        "\n",
        "df = pd.DataFrame(data)\n",
        "\n",
        "#Handling Missing Values\n",
        "imputer = SimpleImputer(strategy = 'mean')\n",
        "df_imputed = pd.DataFrame(imputer.fit_transform(df), columns = df.columns)\n",
        "\n",
        "print('After Imputation: \\n',df_imputed)"
      ]
    },
    {
      "cell_type": "markdown",
      "metadata": {
        "id": "gfsRY_RrGvmO"
      },
      "source": [
        "# 2. Encoding Categorical Variables\n",
        "\n",
        "*Definition*\n",
        "\n",
        "Encoding categorical variables involves converting categorical data into a numerical format that can be used by machine learning algorithms. Common methods include one-hot encoding and label encoding.\n"
      ]
    },
    {
      "cell_type": "code",
      "execution_count": 7,
      "metadata": {
        "colab": {
          "base_uri": "https://localhost:8080/"
        },
        "id": "CrelA7yTFoNu",
        "outputId": "d250fee6-6a76-46ad-d30b-609d9d4f3951"
      },
      "outputs": [
        {
          "name": "stdout",
          "output_type": "stream",
          "text": [
            "After One- Hot Encoding: \n",
            "    Color_Blue  Color_Green  Color_Red\n",
            "0         0.0          0.0        1.0\n",
            "1         1.0          0.0        0.0\n",
            "2         0.0          1.0        0.0\n",
            "3         1.0          0.0        0.0\n",
            "4         0.0          0.0        1.0\n"
          ]
        },
        {
          "name": "stderr",
          "output_type": "stream",
          "text": [
            "/usr/local/lib/python3.10/dist-packages/sklearn/preprocessing/_encoders.py:868: FutureWarning: `sparse` was renamed to `sparse_output` in version 1.2 and will be removed in 1.4. `sparse_output` is ignored unless you leave `sparse` to its default value.\n",
            "  warnings.warn(\n"
          ]
        }
      ],
      "source": [
        "import pandas as pd\n",
        "from sklearn.preprocessing import OneHotEncoder\n",
        "\n",
        "#Sample Data\n",
        "data = {\n",
        "    'Color' : ['Red' , 'Blue' , 'Green' , 'Blue' , 'Red']\n",
        "}\n",
        "\n",
        "df = pd.DataFrame(data)\n",
        "\n",
        "#Encoding categorical variables\n",
        "encoder = OneHotEncoder(sparse = False)\n",
        "encoded_categories = encoder.fit_transform(df[['Color']])\n",
        "df_encoded = pd.DataFrame(encoded_categories, columns = encoder.get_feature_names_out(['Color']))\n",
        "df = pd.concat([df, df_encoded], axis = 1).drop('Color', axis = 1)\n",
        "\n",
        "print('After One- Hot Encoding: \\n',df_encoded)"
      ]
    },
    {
      "cell_type": "markdown",
      "metadata": {
        "id": "7b30s3DPIjci"
      },
      "source": [
        "# 3. Feature Scaling\n",
        "\n",
        "*Definition*\n",
        "\n",
        "Feature scaling involves normalizing or standardizing features so that they have a similar scale. Common methods include min-ma scaling and standardization (z-score normalization)."
      ]
    },
    {
      "cell_type": "code",
      "execution_count": 8,
      "metadata": {
        "colab": {
          "base_uri": "https://localhost:8080/"
        },
        "id": "xJ75-M1sITjE",
        "outputId": "fca30153-4100-4189-f9b0-00cc36c57bdb"
      },
      "outputs": [
        {
          "name": "stdout",
          "output_type": "stream",
          "text": [
            "After Scaling: \n",
            "    Feature1  Feature2\n",
            "0      0.00      0.00\n",
            "1      0.25      0.25\n",
            "2      0.50      0.50\n",
            "3      0.75      0.75\n",
            "4      1.00      1.00\n"
          ]
        }
      ],
      "source": [
        "import pandas as pd\n",
        "from sklearn.preprocessing import MinMaxScaler\n",
        "\n",
        "#Sample Data\n",
        "data = {\n",
        "    'Feature1' : [10,20,30,40,50],\n",
        "    'Feature2' : [100,200,300,400,500]\n",
        "}\n",
        "\n",
        "df = pd.DataFrame(data)\n",
        "\n",
        "#Feature Scaling\n",
        "scaler = MinMaxScaler()\n",
        "df_scaled = pd.DataFrame(scaler.fit_transform(df), columns = df.columns)\n",
        "\n",
        "print('After Scaling: \\n',df_scaled)"
      ]
    },
    {
      "cell_type": "markdown",
      "metadata": {
        "id": "Rh1Q8FSUJt_T"
      },
      "source": [
        "# 4. Feature Creation\n",
        "\n",
        "*Definition*\n",
        "\n",
        "Feature creation involves generating new features froln existing ones to improve the predictive power of machine learning models. Common methods include polynomial features and interaction terms."
      ]
    },
    {
      "cell_type": "code",
      "execution_count": 9,
      "metadata": {
        "colab": {
          "base_uri": "https://localhost:8080/"
        },
        "id": "YzSml21hJU7k",
        "outputId": "c871f3ae-6b84-4928-d522-338e2f952ca5"
      },
      "outputs": [
        {
          "name": "stdout",
          "output_type": "stream",
          "text": [
            "After Polynomial Feature Creation: \n",
            "    Feature1  Feature2  Feature1^2  Feature1 Feature2  Feature2^2\n",
            "0       1.0       1.0         1.0                1.0         1.0\n",
            "1       2.0       2.0         4.0                4.0         4.0\n",
            "2       3.0       3.0         9.0                9.0         9.0\n",
            "3       4.0       4.0        16.0               16.0        16.0\n",
            "4       5.0       5.0        25.0               25.0        25.0\n",
            "5       6.0       6.0        36.0               36.0        36.0\n"
          ]
        }
      ],
      "source": [
        "import pandas as pd\n",
        "from sklearn.preprocessing import PolynomialFeatures\n",
        "\n",
        "#Sample Data\n",
        "data ={\n",
        "    'Feature1' : [1,2,3,4,5,6],\n",
        "    'Feature2' : [1,2,3,4,5,6]\n",
        "}\n",
        "\n",
        "df=pd.DataFrame(data)\n",
        "\n",
        "#Feature Creation\n",
        "poly = PolynomialFeatures(degree = 2, include_bias = False)\n",
        "poly_features = poly.fit_transform(df)\n",
        "df_poly = pd.DataFrame(poly_features, columns = poly.get_feature_names_out(['Feature1' , 'Feature2']))\n",
        "\n",
        "print('After Polynomial Feature Creation: \\n',df_poly)"
      ]
    },
    {
      "cell_type": "markdown",
      "metadata": {
        "id": "1D9LhNbL24j2"
      },
      "source": [
        "# Feature Selection\n",
        "*Definition:* Feature selection involves selecting a subset of relevant features (variables, predictors) for use in model construction. It aims to improve the model's performance by removing redundant or irrelevant features.\n",
        "\n",
        "*Purpose:*\n",
        "\n",
        "* Reduce overfitting: Less redundant data means less chance to make decisions based on noise.\n",
        "\n",
        "* Improve accuracy: Less misleading data means modeling accuracy improves.\n",
        "\n",
        "* Reduce training time: Fewer data points reduce algorithm complexity and speed up the training process.\n",
        "\n",
        "# 1. Variance Thresholding\n",
        "*Definition*\n",
        "\n",
        "Variance Thresholding is a simple baseline approach to feature selection. It removes all features whose variance doesn't meet som threshold. By default, it removes all zero-variance features, ie, features that have the same value in all samples."
      ]
    },
    {
      "cell_type": "code",
      "execution_count": 10,
      "metadata": {
        "colab": {
          "base_uri": "https://localhost:8080/"
        },
        "id": "Qy07gUZV0ZcN",
        "outputId": "e83e876e-dd62-4393-9cd7-749eff2d5bf6"
      },
      "outputs": [
        {
          "name": "stdout",
          "output_type": "stream",
          "text": [
            "After Variance Thresholding: \n",
            "    Feature2  Feature3\n",
            "0         2         3\n",
            "1         3         4\n",
            "2         4         5\n",
            "3         5         6\n",
            "4         6         7\n"
          ]
        }
      ],
      "source": [
        "import pandas as pd\n",
        "from sklearn.feature_selection import VarianceThreshold\n",
        "\n",
        "#Sample data\n",
        "Data = {\n",
        "    'Feature1' : [1,1,1,1,1],     # Low Variance\n",
        "    'Feature2' : [2,3,4,5,6],\n",
        "    'Feature3' : [3,4,5,6,7],\n",
        "    'Constant' : [1,1,1,1,1]      # Zero Variance\n",
        "}\n",
        "\n",
        "df = pd.DataFrame(Data)\n",
        "\n",
        "#Feature Selection\n",
        "selector = VarianceThreshold(threshold = 0.1)\n",
        "df_variance_filtered = pd.DataFrame(selector.fit_transform(df), columns = df.columns[selector.get_support()])\n",
        "\n",
        "print('After Variance Thresholding: \\n',df_variance_filtered)"
      ]
    },
    {
      "cell_type": "markdown",
      "metadata": {
        "id": "rYecXoJv5xSR"
      },
      "source": [
        "# 2. Correlation Matrix Filtering\n",
        "\n",
        "*Definition*\n",
        "\n",
        "Correlation Matrix Filtering involves computing the correlation matrix for the features in the dataset and removing one of each pair of features with a high correlation. This helps to reduce redundancy in the data"
      ]
    },
    {
      "cell_type": "code",
      "execution_count": 11,
      "metadata": {
        "colab": {
          "base_uri": "https://localhost:8080/",
          "height": 803
        },
        "id": "1WLXKLpH5X2G",
        "outputId": "3a60ed61-d04b-46dd-bbf8-c37e1d3b0bec"
      },
      "outputs": [
        {
          "data": {
            "image/png": "[encoded data removed]",
            "text/plain": [
              "<Figure size 1000x800 with 2 Axes>"
            ]
          },
          "metadata": {},
          "output_type": "display_data"
        },
        {
          "name": "stdout",
          "output_type": "stream",
          "text": [
            "After Correlation Matrix Filtering: \n",
            "    Feature1\n",
            "0         1\n",
            "1         2\n",
            "2         3\n",
            "3         4\n",
            "4         5\n"
          ]
        }
      ],
      "source": [
        "import pandas as pd\n",
        "import numpy as np\n",
        "import seaborn as sns\n",
        "import matplotlib.pyplot as plt\n",
        "\n",
        "#Sample Data\n",
        "data = {\n",
        "    'Feature1' : [1,2,3,4,5],\n",
        "    'Feature2' : [2,4,6,8,10],    #Highly correlated with Feature 1\n",
        "    'Feature3' : [2,4,6,8,10],    #Highly correlated with Feature 2\n",
        "    'Feature4' : [5,6,7,8,9]\n",
        "}\n",
        "df = pd.DataFrame(data)\n",
        "\n",
        "#Correlation Matrix\n",
        "corr_matrix = df.corr().abs()\n",
        "\n",
        "#Plot Correlation Matrix\n",
        "plt.figure(figsize = (10,8))\n",
        "sns.heatmap(corr_matrix, annot = True, cmap = 'coolwarm',fmt='.2f')\n",
        "plt.show()\n",
        "\n",
        "#Select upper triangle of Correlation Matrix\n",
        "upper = corr_matrix.where(np.triu(np.ones(corr_matrix.shape),k=1).astype('bool'))\n",
        "\n",
        "#Finding features with correlation greater than 0.9\n",
        "to_drop = [column for column in upper.columns if any(upper[column] > 0.9)]\n",
        "\n",
        "#Dropping features\n",
        "df_corr_filtered = df.drop(to_drop, axis = 1)\n",
        "\n",
        "print('After Correlation Matrix Filtering: \\n',df_corr_filtered)"
      ]
    },
    {
      "cell_type": "markdown",
      "metadata": {
        "id": "MkYeoP7Z8a6c"
      },
      "source": [
        "# 3. Domain Knowledge\n",
        "\n",
        "*Definition*\n",
        "\n",
        "Domain knowledge involves using expertise from the specific field or industry to manually select the most relevant features. This method leverages human understanding of which features are likely to be important."
      ]
    },
    {
      "cell_type": "code",
      "execution_count": 12,
      "metadata": {
        "colab": {
          "base_uri": "https://localhost:8080/"
        },
        "id": "ZAyHUIvX8Z3d",
        "outputId": "a64f5c2f-b481-4c40-cc02-7ceec5de08b5"
      },
      "outputs": [
        {
          "name": "stdout",
          "output_type": "stream",
          "text": [
            "Selected Features based on Domain Knowledge:\n",
            "    Age  Salary\n",
            "0   25   50000\n",
            "1   30   60000\n",
            "2   35   70000\n",
            "3   40   80000\n",
            "4   45   90000\n"
          ]
        }
      ],
      "source": [
        "import pandas as pd\n",
        "\n",
        "#Sample Data\n",
        "data = {\n",
        "    'Age' : [25,30,35,40,45],\n",
        "    'Salary' : [50000,60000,70000,80000,90000],\n",
        "    'Height' : [5.5 , 6.0 , 5.8, 5.9,6.1],\n",
        "    'Weight' : [150,160,170,180,190]\n",
        "}\n",
        "\n",
        "df = pd.DataFrame(data)\n",
        "\n",
        "#Based on Domain knowledge we know Age and Salary are important\n",
        "selected_featured_domain = df[['Age','Salary']]\n",
        "print('Selected Features based on Domain Knowledge:\\n',selected_featured_domain)"
      ]
    },
    {
      "cell_type": "code",
      "execution_count": 12,
      "metadata": {
        "id": "g18gkUGK9o83"
      },
      "outputs": [],
      "source": []
    }
  ],
  "metadata": {
    "colab": {
      "authorship_tag": "ABX9TyMu0Dm6DxQCuKPJO9OVlm4l",
      "include_colab_link": true,
      "provenance": []
    },
    "kernelspec": {
      "display_name": "Python 3",
      "name": "python3"
    },
    "language_info": {
      "name": "python"
    }
  },
  "nbformat": 4,
  "nbformat_minor": 0
}
