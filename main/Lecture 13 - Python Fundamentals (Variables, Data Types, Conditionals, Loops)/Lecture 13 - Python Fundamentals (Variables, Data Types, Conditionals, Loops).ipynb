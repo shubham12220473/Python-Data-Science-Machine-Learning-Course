{
  "cells": [
    {
      "cell_type": "markdown",
      "metadata": {
        "id": "HgTYrZHSz2Ru"
      },
      "source": [
        "Variables"
      ]
    },
    {
      "cell_type": "code",
      "execution_count": 3,
      "metadata": {
        "id": "NjfWiNTKzr61"
      },
      "outputs": [],
      "source": [
        "#Assigning  values to the variables\n",
        "name = \"Ritesh Verma\"\n",
        "age = 21\n",
        "cgpa = 9.8"
      ]
    },
    {
      "cell_type": "markdown",
      "metadata": {
        "id": "zTu5mfN00VW5"
      },
      "source": [
        "Data Types\n"
      ]
    },
    {
      "cell_type": "code",
      "execution_count": 4,
      "metadata": {
        "colab": {
          "base_uri": "https://localhost:8080/"
        },
        "id": "GmIAkkG50Uih",
        "outputId": "6c835ff8-0375-4521-c069-8e557f4dc269"
      },
      "outputs": [
        {
          "name": "stdout",
          "output_type": "stream",
          "text": [
            "10\n"
          ]
        }
      ],
      "source": [
        "#Integer\n",
        "num = 10\n",
        "\n",
        "#Inbuilt functions and operations for Integers:\n",
        "print(abs(num)) #Absolute value"
      ]
    },
    {
      "cell_type": "code",
      "execution_count": null,
      "metadata": {
        "colab": {
          "base_uri": "https://localhost:8080/"
        },
        "id": "MLMZIXSe3pSB",
        "outputId": "5e3a089b-c861-4d81-c0b5-3757725a7c19"
      },
      "outputs": [
        {
          "name": "stdout",
          "output_type": "stream",
          "text": [
            "0b1010\n"
          ]
        }
      ],
      "source": [
        "print(bin(num)) #Binary representation"
      ]
    },
    {
      "cell_type": "code",
      "execution_count": null,
      "metadata": {
        "colab": {
          "base_uri": "https://localhost:8080/"
        },
        "id": "JecIr11o3sLn",
        "outputId": "bcd75638-5e39-41d6-d8d9-886a1d4715b6"
      },
      "outputs": [
        {
          "name": "stdout",
          "output_type": "stream",
          "text": [
            "0xa\n"
          ]
        }
      ],
      "source": [
        "print(hex(num)) #Hexadecimal representation"
      ]
    },
    {
      "cell_type": "code",
      "execution_count": null,
      "metadata": {
        "colab": {
          "base_uri": "https://localhost:8080/"
        },
        "id": "CsYNOb4K3uJ8",
        "outputId": "8358d624-0e7e-44f1-858a-90ce01f93ea0"
      },
      "outputs": [
        {
          "name": "stdout",
          "output_type": "stream",
          "text": [
            "100\n"
          ]
        }
      ],
      "source": [
        "print(pow(num,2)) #Power Function (num^2)"
      ]
    },
    {
      "cell_type": "code",
      "execution_count": null,
      "metadata": {
        "colab": {
          "base_uri": "https://localhost:8080/"
        },
        "id": "ZRV0pQ3K37Nr",
        "outputId": "75742d92-2499-407b-97bc-f06684255b05"
      },
      "outputs": [
        {
          "name": "stdout",
          "output_type": "stream",
          "text": [
            "(3, 1)\n"
          ]
        }
      ],
      "source": [
        "print(divmod(num,3))   #Quotient and Remainder"
      ]
    },
    {
      "cell_type": "code",
      "execution_count": null,
      "metadata": {
        "colab": {
          "base_uri": "https://localhost:8080/"
        },
        "id": "UJSEXBUm4EuH",
        "outputId": "2eec9a2e-fa8a-40a5-8021-d7a4d79d376c"
      },
      "outputs": [
        {
          "name": "stdout",
          "output_type": "stream",
          "text": [
            "100\n"
          ]
        }
      ],
      "source": [
        "#Float\n",
        "price = 99.99\n",
        "\n",
        "#Inbuilt functions and operations for Floats:\n",
        "print(round(price)) #Rounding"
      ]
    },
    {
      "cell_type": "code",
      "execution_count": null,
      "metadata": {
        "colab": {
          "base_uri": "https://localhost:8080/"
        },
        "id": "dDqXT4eK5hyD",
        "outputId": "c0fbf64f-bada-4920-f51e-490e61ce4f4b"
      },
      "outputs": [
        {
          "name": "stdout",
          "output_type": "stream",
          "text": [
            "99.99\n"
          ]
        }
      ],
      "source": [
        "print(abs(price))   #absolute value"
      ]
    },
    {
      "cell_type": "code",
      "execution_count": null,
      "metadata": {
        "colab": {
          "base_uri": "https://localhost:8080/"
        },
        "id": "-N62jErA5vpY",
        "outputId": "e984f502-a896-4896-9ef3-ba727a3d778d"
      },
      "outputs": [
        {
          "name": "stdout",
          "output_type": "stream",
          "text": [
            "99\n"
          ]
        }
      ],
      "source": [
        "print(int(price))   #convert to integer"
      ]
    },
    {
      "cell_type": "code",
      "execution_count": null,
      "metadata": {
        "colab": {
          "base_uri": "https://localhost:8080/"
        },
        "id": "uo3txaZ553Fp",
        "outputId": "d8351223-8ba0-43d2-fe14-fd8d2b0398e8"
      },
      "outputs": [
        {
          "name": "stdout",
          "output_type": "stream",
          "text": [
            "123.45\n"
          ]
        }
      ],
      "source": [
        "print(float(\"123.45\"))  #convert string to float"
      ]
    },
    {
      "cell_type": "code",
      "execution_count": null,
      "metadata": {
        "colab": {
          "base_uri": "https://localhost:8080/"
        },
        "id": "WhwhFO_06A2p",
        "outputId": "42670494-399e-422e-f59b-42a2dbdd6321"
      },
      "outputs": [
        {
          "name": "stdout",
          "output_type": "stream",
          "text": [
            "False\n"
          ]
        }
      ],
      "source": [
        "print(price.is_integer()) #check if float is an integer"
      ]
    },
    {
      "cell_type": "code",
      "execution_count": null,
      "metadata": {
        "colab": {
          "base_uri": "https://localhost:8080/"
        },
        "id": "5QGv8fw_6JBz",
        "outputId": "54bf5a2b-e0af-421c-f09c-7d08ea40c409"
      },
      "outputs": [
        {
          "name": "stdout",
          "output_type": "stream",
          "text": [
            "hello, world!\n"
          ]
        }
      ],
      "source": [
        "#String\n",
        "greeting = \"Hello, World!\"\n",
        "\n",
        "#Inbuilt functions and operations for String:\n",
        "\n",
        "print(greeting.lower()) #convert to lowercase"
      ]
    },
    {
      "cell_type": "code",
      "execution_count": null,
      "metadata": {
        "colab": {
          "base_uri": "https://localhost:8080/"
        },
        "id": "jjo8302K6in9",
        "outputId": "a9e89d66-ee22-4942-91b2-4af78014a850"
      },
      "outputs": [
        {
          "name": "stdout",
          "output_type": "stream",
          "text": [
            "HELLO, WORLD!\n"
          ]
        }
      ],
      "source": [
        "print(greeting.upper()) #convert to uppercase"
      ]
    },
    {
      "cell_type": "code",
      "execution_count": null,
      "metadata": {
        "colab": {
          "base_uri": "https://localhost:8080/"
        },
        "id": "Vu0NvJFI6mH2",
        "outputId": "12a75426-5bb9-43ab-e19e-f7ed836d9813"
      },
      "outputs": [
        {
          "name": "stdout",
          "output_type": "stream",
          "text": [
            "Hello, Universe!\n"
          ]
        }
      ],
      "source": [
        "print(greeting.replace(\"World\",\"Universe\")) #replace substring"
      ]
    },
    {
      "cell_type": "code",
      "execution_count": null,
      "metadata": {
        "colab": {
          "base_uri": "https://localhost:8080/"
        },
        "id": "ulhd-flp6sj_",
        "outputId": "bb75a071-9d3f-48c5-d890-b0fd45241c41"
      },
      "outputs": [
        {
          "name": "stdout",
          "output_type": "stream",
          "text": [
            "['Hello', ' World!']\n"
          ]
        }
      ],
      "source": [
        "print(greeting.split(\",\")) #split string into a list"
      ]
    },
    {
      "cell_type": "code",
      "execution_count": null,
      "metadata": {
        "colab": {
          "base_uri": "https://localhost:8080/"
        },
        "id": "ripi9kEs6zHj",
        "outputId": "897fe89d-dfe8-46d2-dae5-6f30864a9655"
      },
      "outputs": [
        {
          "name": "stdout",
          "output_type": "stream",
          "text": [
            "7\n"
          ]
        }
      ],
      "source": [
        "print(greeting.find(\"World\")) #find substring"
      ]
    },
    {
      "cell_type": "code",
      "execution_count": null,
      "metadata": {
        "colab": {
          "base_uri": "https://localhost:8080/"
        },
        "id": "FWSAY7rK63Yx",
        "outputId": "2fc2cbb2-d13d-41bf-ae0d-37da0fd3e3f8"
      },
      "outputs": [
        {
          "name": "stdout",
          "output_type": "stream",
          "text": [
            "13\n"
          ]
        }
      ],
      "source": [
        "print(len(greeting)) #length of string"
      ]
    },
    {
      "cell_type": "code",
      "execution_count": null,
      "metadata": {
        "colab": {
          "base_uri": "https://localhost:8080/"
        },
        "id": "5vw4yv22677t",
        "outputId": "3ae67d73-f7e2-4ffd-910b-aa553d1cc256"
      },
      "outputs": [
        {
          "name": "stdout",
          "output_type": "stream",
          "text": [
            "None\n"
          ]
        }
      ],
      "source": [
        "#List\n",
        "fruits = [\"apple\", \"banana\", \"cherry\"]\n",
        "\n",
        "#Inbuilt functions and operations for List:\n",
        "print(fruits.append(\"orange\")) #add element to the end of the list"
      ]
    },
    {
      "cell_type": "code",
      "execution_count": null,
      "metadata": {
        "colab": {
          "base_uri": "https://localhost:8080/"
        },
        "id": "vyWfhr547mnb",
        "outputId": "c6906c04-9f82-4134-f9d6-a04efbcdf9ad"
      },
      "outputs": [
        {
          "name": "stdout",
          "output_type": "stream",
          "text": [
            "['apple', 'banana', 'cherry', 'orange']\n"
          ]
        }
      ],
      "source": [
        "print(fruits)"
      ]
    },
    {
      "cell_type": "code",
      "execution_count": null,
      "metadata": {
        "id": "TXwbT1BR7U2y"
      },
      "outputs": [],
      "source": [
        "fruits.extend([\"mango\", \"kiwi\"]) #add multiple elements to the end of the list"
      ]
    },
    {
      "cell_type": "code",
      "execution_count": null,
      "metadata": {
        "colab": {
          "base_uri": "https://localhost:8080/"
        },
        "id": "NN84TyNs7rHm",
        "outputId": "477cb9c4-d2a5-40e2-9d49-60db79eda928"
      },
      "outputs": [
        {
          "name": "stdout",
          "output_type": "stream",
          "text": [
            "['apple', 'banana', 'cherry', 'orange', 'mango', 'kiwi']\n"
          ]
        }
      ],
      "source": [
        "print(fruits)"
      ]
    },
    {
      "cell_type": "code",
      "execution_count": null,
      "metadata": {
        "id": "1GALKx6O7cAW"
      },
      "outputs": [],
      "source": [
        "fruits.remove(\"banana\") #remove element from the list"
      ]
    },
    {
      "cell_type": "code",
      "execution_count": null,
      "metadata": {
        "colab": {
          "base_uri": "https://localhost:8080/"
        },
        "id": "PqTviPoI7taK",
        "outputId": "bdb6c68d-7a26-4c10-eb6e-a41f460245b7"
      },
      "outputs": [
        {
          "name": "stdout",
          "output_type": "stream",
          "text": [
            "['apple', 'cherry', 'orange', 'mango', 'kiwi']\n"
          ]
        }
      ],
      "source": [
        "print(fruits)"
      ]
    },
    {
      "cell_type": "code",
      "execution_count": null,
      "metadata": {
        "colab": {
          "base_uri": "https://localhost:8080/",
          "height": 35
        },
        "id": "CJb0Xbx17ija",
        "outputId": "26d9e98c-94ba-47d1-dac0-946063333249"
      },
      "outputs": [
        {
          "data": {
            "application/vnd.google.colaboratory.intrinsic+json": {
              "type": "string"
            },
            "text/plain": [
              "'kiwi'"
            ]
          },
          "execution_count": 71,
          "metadata": {},
          "output_type": "execute_result"
        }
      ],
      "source": [
        "fruits.pop() #remove last element"
      ]
    },
    {
      "cell_type": "code",
      "execution_count": null,
      "metadata": {
        "colab": {
          "base_uri": "https://localhost:8080/"
        },
        "id": "oscYPQlV74_o",
        "outputId": "e6a045ab-1a5a-411d-81ea-a9691802b835"
      },
      "outputs": [
        {
          "name": "stdout",
          "output_type": "stream",
          "text": [
            "['apple', 'cherry', 'orange', 'mango']\n"
          ]
        }
      ],
      "source": [
        "print(fruits)"
      ]
    },
    {
      "cell_type": "code",
      "execution_count": null,
      "metadata": {
        "id": "G4WnzCfX8Bvh"
      },
      "outputs": [],
      "source": [
        "fruits.sort()   #sort the list"
      ]
    },
    {
      "cell_type": "code",
      "execution_count": null,
      "metadata": {
        "colab": {
          "base_uri": "https://localhost:8080/"
        },
        "id": "Pcat3qOX8Mlv",
        "outputId": "7cabe12e-fb76-41c2-d589-f9d3b34e295c"
      },
      "outputs": [
        {
          "name": "stdout",
          "output_type": "stream",
          "text": [
            "['apple', 'cherry', 'mango', 'orange']\n"
          ]
        }
      ],
      "source": [
        "print(fruits)"
      ]
    },
    {
      "cell_type": "code",
      "execution_count": null,
      "metadata": {
        "colab": {
          "base_uri": "https://localhost:8080/"
        },
        "id": "u04l-z_Z8O9E",
        "outputId": "872a9811-8828-4a54-8825-71b2c12187b4"
      },
      "outputs": [
        {
          "name": "stdout",
          "output_type": "stream",
          "text": [
            "4\n"
          ]
        }
      ],
      "source": [
        "print(len(fruits))    #length of the list"
      ]
    },
    {
      "cell_type": "code",
      "execution_count": null,
      "metadata": {
        "colab": {
          "base_uri": "https://localhost:8080/"
        },
        "id": "6m_oAvwX8oii",
        "outputId": "a6c46bf3-95b0-4440-9897-048284b1d03a"
      },
      "outputs": [
        {
          "name": "stdout",
          "output_type": "stream",
          "text": [
            "1\n"
          ]
        }
      ],
      "source": [
        "print(fruits.index(\"cherry\"))   #finding index"
      ]
    },
    {
      "cell_type": "code",
      "execution_count": null,
      "metadata": {
        "colab": {
          "base_uri": "https://localhost:8080/"
        },
        "id": "QRPWSE9c87tS",
        "outputId": "b7563a7c-0262-49ab-b9d3-dec73a6d7e2a"
      },
      "outputs": [
        {
          "name": "stdout",
          "output_type": "stream",
          "text": [
            "True\n"
          ]
        }
      ],
      "source": [
        "print(\"apple\" in fruits)  #checking if element is in the list"
      ]
    },
    {
      "cell_type": "code",
      "execution_count": null,
      "metadata": {
        "colab": {
          "base_uri": "https://localhost:8080/"
        },
        "id": "nkqB0_-T9AYH",
        "outputId": "04ff6321-a2f5-493d-c838-c4a430322011"
      },
      "outputs": [
        {
          "name": "stdout",
          "output_type": "stream",
          "text": [
            "10.0\n"
          ]
        }
      ],
      "source": [
        "#Tuple\n",
        "coordinates = (10.0, 20.0)\n",
        "#Inbuilt functions and operations for Tuple:\n",
        "print(coordinates[0]) #access element by index"
      ]
    },
    {
      "cell_type": "code",
      "execution_count": null,
      "metadata": {
        "colab": {
          "base_uri": "https://localhost:8080/"
        },
        "id": "UahBknaI9bM3",
        "outputId": "ba7ed90a-9ef0-433e-8925-e322c22ae7f4"
      },
      "outputs": [
        {
          "name": "stdout",
          "output_type": "stream",
          "text": [
            "1\n"
          ]
        }
      ],
      "source": [
        "print(coordinates.count(10.0)) #count occurrences of an element"
      ]
    },
    {
      "cell_type": "code",
      "execution_count": null,
      "metadata": {
        "colab": {
          "base_uri": "https://localhost:8080/"
        },
        "id": "IOlWK2MD9mwM",
        "outputId": "841d1898-379c-4e75-c6a5-1d5e4dc567e9"
      },
      "outputs": [
        {
          "name": "stdout",
          "output_type": "stream",
          "text": [
            "1\n"
          ]
        }
      ],
      "source": [
        "print(coordinates.index(20.0)) #find index of an element"
      ]
    },
    {
      "cell_type": "code",
      "execution_count": null,
      "metadata": {
        "colab": {
          "base_uri": "https://localhost:8080/"
        },
        "id": "6D-BHpiL9pw8",
        "outputId": "7232f473-c89a-4421-9eae-2df9eda63338"
      },
      "outputs": [
        {
          "name": "stdout",
          "output_type": "stream",
          "text": [
            "2\n"
          ]
        }
      ],
      "source": [
        "print(len(coordinates)) #Length of a tuple"
      ]
    },
    {
      "cell_type": "code",
      "execution_count": null,
      "metadata": {
        "colab": {
          "base_uri": "https://localhost:8080/"
        },
        "id": "bR8V58k--MPw",
        "outputId": "9c3215d7-54d6-456b-e4d9-a31fc7ab0d55"
      },
      "outputs": [
        {
          "data": {
            "text/plain": [
              "[10.0, 20.0]"
            ]
          },
          "execution_count": 82,
          "metadata": {},
          "output_type": "execute_result"
        }
      ],
      "source": [
        "li = list(coordinates) #convert tuple to list\n",
        "li"
      ]
    },
    {
      "cell_type": "code",
      "execution_count": null,
      "metadata": {
        "id": "zgZiFkHe-aLI"
      },
      "outputs": [],
      "source": [
        "li[1] = \"hi\""
      ]
    },
    {
      "cell_type": "code",
      "execution_count": null,
      "metadata": {
        "colab": {
          "base_uri": "https://localhost:8080/"
        },
        "id": "f8i6wcww-kpQ",
        "outputId": "5ff549d6-b45b-4188-c1b2-4c7fcfff9589"
      },
      "outputs": [
        {
          "data": {
            "text/plain": [
              "[10.0, 'hi']"
            ]
          },
          "execution_count": 84,
          "metadata": {},
          "output_type": "execute_result"
        }
      ],
      "source": [
        "li"
      ]
    },
    {
      "cell_type": "code",
      "execution_count": null,
      "metadata": {
        "colab": {
          "base_uri": "https://localhost:8080/"
        },
        "id": "jitagXhl-l31",
        "outputId": "081fc771-1d3e-49db-89bb-cab60b4ccaa9"
      },
      "outputs": [
        {
          "data": {
            "text/plain": [
              "(10.0, 'hi')"
            ]
          },
          "execution_count": 85,
          "metadata": {},
          "output_type": "execute_result"
        }
      ],
      "source": [
        "coordinates = tuple(li)\n",
        "coordinates"
      ]
    },
    {
      "cell_type": "code",
      "execution_count": null,
      "metadata": {
        "colab": {
          "base_uri": "https://localhost:8080/"
        },
        "id": "C-BBCvA4-4YB",
        "outputId": "8827d58d-6c33-49fb-c17a-d8a60cde28a1"
      },
      "outputs": [
        {
          "name": "stdout",
          "output_type": "stream",
          "text": [
            "dict_keys(['name', 'age'])\n"
          ]
        }
      ],
      "source": [
        "# Dictionary\n",
        "person = {\"name\": \"John\", \"age\": 30}\n",
        "\n",
        "#Inbuilt functions and operations for Dictionary:\n",
        "print(person.keys())  #Get all keys"
      ]
    },
    {
      "cell_type": "code",
      "execution_count": null,
      "metadata": {
        "colab": {
          "base_uri": "https://localhost:8080/"
        },
        "id": "3EL_qpzO_S5M",
        "outputId": "ca80a066-34e8-4b4d-c2e6-1fba59f59eab"
      },
      "outputs": [
        {
          "name": "stdout",
          "output_type": "stream",
          "text": [
            "dict_values(['John', 30])\n"
          ]
        }
      ],
      "source": [
        "print(person.values()) #Get all values"
      ]
    },
    {
      "cell_type": "code",
      "execution_count": null,
      "metadata": {
        "colab": {
          "base_uri": "https://localhost:8080/"
        },
        "id": "VKYU0fei_X_c",
        "outputId": "688ab96d-224a-4dce-9d7b-440af69beaa3"
      },
      "outputs": [
        {
          "name": "stdout",
          "output_type": "stream",
          "text": [
            "dict_items([('name', 'John'), ('age', 30)])\n"
          ]
        }
      ],
      "source": [
        "print(person.items()) #Get all key-value pairs"
      ]
    },
    {
      "cell_type": "code",
      "execution_count": null,
      "metadata": {
        "colab": {
          "base_uri": "https://localhost:8080/"
        },
        "id": "1xrtnjkB_dmV",
        "outputId": "c7fc8b9d-a54c-489e-86a8-43d3459195ef"
      },
      "outputs": [
        {
          "name": "stdout",
          "output_type": "stream",
          "text": [
            "John\n"
          ]
        }
      ],
      "source": [
        "print(person.get(\"name\")) #Get value for a key"
      ]
    },
    {
      "cell_type": "code",
      "execution_count": null,
      "metadata": {
        "colab": {
          "base_uri": "https://localhost:8080/"
        },
        "id": "GJzknnnW_i_s",
        "outputId": "216552c2-a18c-4778-8e02-5ce0a8adae1b"
      },
      "outputs": [
        {
          "data": {
            "text/plain": [
              "{'name': 'John', 'age': 30, 'height': 180}"
            ]
          },
          "execution_count": 90,
          "metadata": {},
          "output_type": "execute_result"
        }
      ],
      "source": [
        "person.update({\"height\": 180})  #Update dictionary with another dictionary\n",
        "person"
      ]
    },
    {
      "cell_type": "code",
      "execution_count": null,
      "metadata": {
        "colab": {
          "base_uri": "https://localhost:8080/"
        },
        "id": "YHZdT7Yn_5m6",
        "outputId": "7725ca38-2a07-424f-9812-6bba7d5d78e3"
      },
      "outputs": [
        {
          "data": {
            "text/plain": [
              "{'name': 'John', 'height': 180}"
            ]
          },
          "execution_count": 91,
          "metadata": {},
          "output_type": "execute_result"
        }
      ],
      "source": [
        "person.pop(\"age\") #Remove key-value pair\n",
        "person"
      ]
    },
    {
      "cell_type": "code",
      "execution_count": null,
      "metadata": {
        "colab": {
          "base_uri": "https://localhost:8080/"
        },
        "id": "IntyYKrXAALq",
        "outputId": "030c2446-44d8-494c-83e8-6eb9926756fb"
      },
      "outputs": [
        {
          "name": "stdout",
          "output_type": "stream",
          "text": [
            "2\n"
          ]
        }
      ],
      "source": [
        "print(len(person))"
      ]
    },
    {
      "cell_type": "code",
      "execution_count": null,
      "metadata": {
        "id": "ITqifnqpAMm9"
      },
      "outputs": [],
      "source": [
        "#set\n",
        "se={1,2,3,4}"
      ]
    },
    {
      "cell_type": "code",
      "execution_count": null,
      "metadata": {
        "colab": {
          "base_uri": "https://localhost:8080/"
        },
        "id": "Qvc0Z4kZAR6S",
        "outputId": "ada67e46-570e-4d8c-d3d8-c31a3ce1dc45"
      },
      "outputs": [
        {
          "data": {
            "text/plain": [
              "{1}"
            ]
          },
          "execution_count": 94,
          "metadata": {},
          "output_type": "execute_result"
        }
      ],
      "source": [
        "#not allow duplicates\n",
        "se={1,1,1,1,1}\n",
        "se"
      ]
    },
    {
      "cell_type": "code",
      "execution_count": null,
      "metadata": {
        "colab": {
          "base_uri": "https://localhost:8080/"
        },
        "id": "xEuPNFJ9AZrV",
        "outputId": "21619c80-d106-4cc0-8078-5c4e36dc8f87"
      },
      "outputs": [
        {
          "name": "stdout",
          "output_type": "stream",
          "text": [
            "1\n"
          ]
        }
      ],
      "source": [
        "#length\n",
        "print(len(se))"
      ]
    },
    {
      "cell_type": "code",
      "execution_count": null,
      "metadata": {
        "colab": {
          "base_uri": "https://localhost:8080/"
        },
        "id": "flg7gJ5NAhBx",
        "outputId": "0412b31f-5105-420a-b561-7bb24c64dec1"
      },
      "outputs": [
        {
          "data": {
            "text/plain": [
              "{1, 9}"
            ]
          },
          "execution_count": 96,
          "metadata": {},
          "output_type": "execute_result"
        }
      ],
      "source": [
        "#add\n",
        "se.add(9)\n",
        "se"
      ]
    },
    {
      "cell_type": "code",
      "execution_count": null,
      "metadata": {
        "colab": {
          "base_uri": "https://localhost:8080/"
        },
        "id": "QpZLZBcnAmBD",
        "outputId": "068aae5f-5de5-434b-ca60-2611820332ad"
      },
      "outputs": [
        {
          "data": {
            "text/plain": [
              "{1, 5, 6, 7, 9}"
            ]
          },
          "execution_count": 97,
          "metadata": {},
          "output_type": "execute_result"
        }
      ],
      "source": [
        "se.update([5,6,7])\n",
        "se"
      ]
    },
    {
      "cell_type": "code",
      "execution_count": null,
      "metadata": {
        "colab": {
          "base_uri": "https://localhost:8080/"
        },
        "id": "dPWlPq29BA6L",
        "outputId": "3b6dd419-1409-470f-edf0-d15f9a97f0c5"
      },
      "outputs": [
        {
          "data": {
            "text/plain": [
              "{1, 6, 7, 9}"
            ]
          },
          "execution_count": 98,
          "metadata": {},
          "output_type": "execute_result"
        }
      ],
      "source": [
        "se.remove(5)\n",
        "se"
      ]
    },
    {
      "cell_type": "code",
      "execution_count": null,
      "metadata": {
        "colab": {
          "background_save": true,
          "base_uri": "https://localhost:8080/"
        },
        "id": "KUB-GDeUBM9S",
        "outputId": "e3670b35-d76d-4933-af8f-9c3573a6c33a"
      },
      "outputs": [],
      "source": [
        "#Boolean\n",
        "is_active = 1\n",
        "\n",
        "#Inbuilt functions and operations for Boolean:\n",
        "print(int(is_active))   #Convert to integer (1 for True, 0 for False)"
      ]
    },
    {
      "cell_type": "code",
      "execution_count": null,
      "metadata": {
        "colab": {
          "background_save": true
        },
        "id": "kpgb_pr4Bqu_"
      },
      "outputs": [],
      "source": [
        "print(bool(0))      #Convert integer to boolean (False)"
      ]
    },
    {
      "cell_type": "code",
      "execution_count": null,
      "metadata": {
        "colab": {
          "background_save": true
        },
        "id": "w4LjV27iBzOz"
      },
      "outputs": [],
      "source": [
        "print(bool(1))      #Convert integer to boolean (True)"
      ]
    },
    {
      "cell_type": "code",
      "execution_count": null,
      "metadata": {
        "id": "SSBWESmJB7bw"
      },
      "outputs": [],
      "source": [
        "print(bool(\"Hello\"))    #Convert string to boolean (True)"
      ]
    },
    {
      "cell_type": "code",
      "execution_count": null,
      "metadata": {
        "id": "1aOh7OX-CHl3"
      },
      "outputs": [],
      "source": [
        "print(is_active and False)    #Logical AND"
      ]
    },
    {
      "cell_type": "code",
      "execution_count": null,
      "metadata": {
        "id": "KnooCFDpCV17"
      },
      "outputs": [],
      "source": [
        "print(is_active or False)    #Logical OR"
      ]
    },
    {
      "cell_type": "code",
      "execution_count": null,
      "metadata": {
        "colab": {
          "background_save": true
        },
        "id": "F6eehRkaCaKe"
      },
      "outputs": [],
      "source": [
        "print(not is_active)    #Logical NOT"
      ]
    },
    {
      "cell_type": "markdown",
      "metadata": {
        "id": "qegjVOjCC-NU"
      },
      "source": [
        "**Conditionals**"
      ]
    },
    {
      "cell_type": "code",
      "execution_count": null,
      "metadata": {
        "colab": {
          "background_save": true
        },
        "id": "qBYJZ9p2Cn3_"
      },
      "outputs": [],
      "source": [
        "# Basic if-elif-else statement\n",
        "age = 20\n",
        "\n",
        "if age < 18:\n",
        "    print(\"You are a minor.\")\n",
        "elif age >= 18 and age < 65:\n",
        "    print(\"You are an adult.\")\n",
        "else:\n",
        "    print(\"You are a senior citizen.\")"
      ]
    },
    {
      "cell_type": "code",
      "execution_count": null,
      "metadata": {
        "colab": {
          "background_save": true
        },
        "id": "sxhNmf91DfzD"
      },
      "outputs": [],
      "source": [
        "# Checking Even or Odd Number\n",
        "number = 42\n",
        "\n",
        "if number % 2 == 0:\n",
        "    print(\"Even\")\n",
        "else:\n",
        "    print(\"Odd\")"
      ]
    },
    {
      "cell_type": "code",
      "execution_count": null,
      "metadata": {
        "colab": {
          "background_save": true
        },
        "id": "eGXDCvngEKPn"
      },
      "outputs": [],
      "source": [
        "#Grade Evaluation\n",
        "score = 85\n",
        "\n",
        "if score >= 90:\n",
        "    grade = 'A'\n",
        "elif score >= 80:\n",
        "    grade = 'B'\n",
        "elif score >= 70:\n",
        "    grade = 'C'"
      ]
    },
    {
      "cell_type": "markdown",
      "metadata": {
        "id": "0JN5TkuKE-vQ"
      },
      "source": [
        "**Loops**"
      ]
    },
    {
      "cell_type": "code",
      "execution_count": null,
      "metadata": {
        "id": "2l3wfiFFEpC8"
      },
      "outputs": [],
      "source": [
        "# For loop\n",
        "for i in range(5):\n",
        "    print(i)"
      ]
    },
    {
      "cell_type": "code",
      "execution_count": null,
      "metadata": {
        "colab": {
          "background_save": true
        },
        "id": "hWUzbbulFnfA"
      },
      "outputs": [],
      "source": [
        "#Iterating over a list\n",
        "fruits = [\"apple\", \"banana\", \"cherry\"]\n",
        "for fruit in fruits:\n",
        "    print(fruit)"
      ]
    },
    {
      "cell_type": "code",
      "execution_count": null,
      "metadata": {
        "id": "ScdsPN6MF9bT"
      },
      "outputs": [],
      "source": [
        "#Iterating over a string\n",
        "greeting = \"Hello\"\n",
        "\n",
        "for char in greeting:\n",
        "  print(char)"
      ]
    },
    {
      "cell_type": "code",
      "execution_count": null,
      "metadata": {
        "colab": {
          "background_save": true
        },
        "id": "W7Aj1odnGQl2"
      },
      "outputs": [],
      "source": [
        "#Iterating over a dictionary\n",
        "person = {\"name\":\"John\",\"age\":30,\"city\":\"New-York\"}\n",
        "\n",
        "for key, value in person.items():\n",
        "  print(f\"{key}: {value}\")"
      ]
    },
    {
      "cell_type": "code",
      "execution_count": null,
      "metadata": {
        "colab": {
          "background_save": true
        },
        "id": "C5Dc7bsIG8fG"
      },
      "outputs": [],
      "source": [
        "#Using the `range()` function with a step\n",
        "for i in range(0,10,2):\n",
        "  print(i)"
      ]
    },
    {
      "cell_type": "code",
      "execution_count": null,
      "metadata": {
        "id": "Mvb3LLilHJ3o"
      },
      "outputs": [],
      "source": [
        "#Nested for Loop\n",
        "for i in range(3):\n",
        "  for j in range(2):\n",
        "    print(f\"i = {i}, j = {j}\")"
      ]
    },
    {
      "cell_type": "code",
      "execution_count": null,
      "metadata": {
        "id": "kHrFqmaHHW4U"
      },
      "outputs": [],
      "source": [
        "#Using the enumerate() function\n",
        "fruits = [\"apple\", \"banana\", \"cherry\"]\n",
        "\n",
        "for i, fruit in enumerate(fruits):\n",
        "  print(f\"Index: {i}, Fruit: {fruit}\")"
      ]
    },
    {
      "cell_type": "code",
      "execution_count": null,
      "metadata": {
        "id": "Wh1D7le0IFMd"
      },
      "outputs": [],
      "source": [
        "#While Loop\n",
        "count = 0\n",
        "while count < 5:\n",
        "  print(count)\n",
        "  count += 1"
      ]
    },
    {
      "cell_type": "code",
      "execution_count": null,
      "metadata": {
        "id": "WCbQlawHIx3k"
      },
      "outputs": [],
      "source": [
        "#While loop with break\n",
        "count = 0\n",
        "while True:\n",
        "  print(count)\n",
        "  count += 1\n",
        "  if count >= 5:\n",
        "    break"
      ]
    },
    {
      "cell_type": "code",
      "execution_count": null,
      "metadata": {
        "id": "U4a_LkkZJF7x"
      },
      "outputs": [],
      "source": [
        "#While Loop with continue\n",
        "count = 0\n",
        "while count < 10:\n",
        "  count += 1\n",
        "  if count % 2 == 0:\n",
        "    continue\n",
        "  print(count)"
      ]
    },
    {
      "cell_type": "code",
      "execution_count": null,
      "metadata": {
        "id": "KrjoOfIeJh4r"
      },
      "outputs": [],
      "source": [
        "#Using a while loop for Validation\n",
        "password = \"\"\n",
        "while len(password) < 8:\n",
        "  password = input(\"Enter a password: \")\n",
        "  if len(password) < 8:\n",
        "    print(\"Password must be at least 8 characters long.\")\n",
        "print(\"Password Accepted\")"
      ]
    },
    {
      "cell_type": "code",
      "execution_count": null,
      "metadata": {
        "id": "nJ4n2X-AKytD"
      },
      "outputs": [],
      "source": []
    }
  ],
  "metadata": {
    "colab": {
      "authorship_tag": "ABX9TyNsm4TQPnyHH4a3Q7BT/Gbj",
      "include_colab_link": true,
      "provenance": []
    },
    "kernelspec": {
      "display_name": "Python 3",
      "name": "python3"
    },
    "language_info": {
      "codemirror_mode": {
        "name": "ipython",
        "version": 3
      },
      "file_extension": ".py",
      "mimetype": "text/x-python",
      "name": "python",
      "nbconvert_exporter": "python",
      "pygments_lexer": "ipython3",
      "version": "3.11.9"
    }
  },
  "nbformat": 4,
  "nbformat_minor": 0
}
