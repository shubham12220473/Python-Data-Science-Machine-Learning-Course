{
  "cells": [
    {
      "cell_type": "markdown",
      "metadata": {
        "id": "eI8sggeKS2Bg"
      },
      "source": [
        "# Basics of Dash and Plotly\n",
        "\n",
        "In this notebook, we will cover the basics of Dash and Plotly. We will explain the essential components used to create a simple web application\n",
        "\n",
        "# Initializing the Dash App\n",
        "\n",
        "To start using Dash, you need to import the Desh module and create an instance of the Dash class. This instance will be your app"
      ]
    },
    {
      "cell_type": "code",
      "execution_count": 27,
      "metadata": {
        "colab": {
          "base_uri": "https://localhost:8080/"
        },
        "id": "TW4Y9ourRYM2",
        "outputId": "1f6df93e-aa54-4735-df60-326994e63b80"
      },
      "outputs": [
        {
          "name": "stdout",
          "output_type": "stream",
          "text": [
            "Requirement already satisfied: dash in /usr/local/lib/python3.10/dist-packages (2.17.1)\n",
            "Requirement already satisfied: Flask<3.1,>=1.0.4 in /usr/local/lib/python3.10/dist-packages (from dash) (2.2.5)\n",
            "Requirement already satisfied: Werkzeug<3.1 in /usr/local/lib/python3.10/dist-packages (from dash) (3.0.3)\n",
            "Requirement already satisfied: plotly>=5.0.0 in /usr/local/lib/python3.10/dist-packages (from dash) (5.15.0)\n",
            "Requirement already satisfied: dash-html-components==2.0.0 in /usr/local/lib/python3.10/dist-packages (from dash) (2.0.0)\n",
            "Requirement already satisfied: dash-core-components==2.0.0 in /usr/local/lib/python3.10/dist-packages (from dash) (2.0.0)\n",
            "Requirement already satisfied: dash-table==5.0.0 in /usr/local/lib/python3.10/dist-packages (from dash) (5.0.0)\n",
            "Requirement already satisfied: importlib-metadata in /usr/local/lib/python3.10/dist-packages (from dash) (8.0.0)\n",
            "Requirement already satisfied: typing-extensions>=4.1.1 in /usr/local/lib/python3.10/dist-packages (from dash) (4.12.2)\n",
            "Requirement already satisfied: requests in /usr/local/lib/python3.10/dist-packages (from dash) (2.31.0)\n",
            "Requirement already satisfied: retrying in /usr/local/lib/python3.10/dist-packages (from dash) (1.3.4)\n",
            "Requirement already satisfied: nest-asyncio in /usr/local/lib/python3.10/dist-packages (from dash) (1.6.0)\n",
            "Requirement already satisfied: setuptools in /usr/local/lib/python3.10/dist-packages (from dash) (67.7.2)\n",
            "Requirement already satisfied: Jinja2>=3.0 in /usr/local/lib/python3.10/dist-packages (from Flask<3.1,>=1.0.4->dash) (3.1.4)\n",
            "Requirement already satisfied: itsdangerous>=2.0 in /usr/local/lib/python3.10/dist-packages (from Flask<3.1,>=1.0.4->dash) (2.2.0)\n",
            "Requirement already satisfied: click>=8.0 in /usr/local/lib/python3.10/dist-packages (from Flask<3.1,>=1.0.4->dash) (8.1.7)\n",
            "Requirement already satisfied: tenacity>=6.2.0 in /usr/local/lib/python3.10/dist-packages (from plotly>=5.0.0->dash) (8.4.2)\n",
            "Requirement already satisfied: packaging in /usr/local/lib/python3.10/dist-packages (from plotly>=5.0.0->dash) (24.1)\n",
            "Requirement already satisfied: MarkupSafe>=2.1.1 in /usr/local/lib/python3.10/dist-packages (from Werkzeug<3.1->dash) (2.1.5)\n",
            "Requirement already satisfied: zipp>=0.5 in /usr/local/lib/python3.10/dist-packages (from importlib-metadata->dash) (3.19.2)\n",
            "Requirement already satisfied: charset-normalizer<4,>=2 in /usr/local/lib/python3.10/dist-packages (from requests->dash) (3.3.2)\n",
            "Requirement already satisfied: idna<4,>=2.5 in /usr/local/lib/python3.10/dist-packages (from requests->dash) (3.7)\n",
            "Requirement already satisfied: urllib3<3,>=1.21.1 in /usr/local/lib/python3.10/dist-packages (from requests->dash) (2.0.7)\n",
            "Requirement already satisfied: certifi>=2017.4.17 in /usr/local/lib/python3.10/dist-packages (from requests->dash) (2024.6.2)\n",
            "Requirement already satisfied: six>=1.7.0 in /usr/local/lib/python3.10/dist-packages (from retrying->dash) (1.16.0)\n"
          ]
        }
      ],
      "source": [
        "!pip install dash\n",
        "import dash\n",
        "\n",
        "#Initialize the Dash apps\n",
        "app = dash.Dash(__name__)"
      ]
    },
    {
      "cell_type": "markdown",
      "metadata": {
        "id": "wGr76_QQTdNY"
      },
      "source": [
        "# Defining the Layout\n",
        "\n",
        "The layout of a Dash app is defined using Dash's HTML and core components. The layout describes what the app looks like."
      ]
    },
    {
      "cell_type": "code",
      "execution_count": 28,
      "metadata": {
        "id": "aaw3SqN2Tfzb"
      },
      "outputs": [],
      "source": [
        "from dash import dcc, html\n",
        "\n",
        "#Define the layout\n",
        "app.layout = html.Div([\n",
        "    html.H1(\"My Dash App\",style={'textAlign' : 'center'}),\n",
        "    dcc.Input(id='input-box',type='text', value ='Type Something...'),\n",
        "    html.Button('Submit',id='button'),\n",
        "    html.Div(id='output-div')\n",
        "])"
      ]
    },
    {
      "cell_type": "markdown",
      "metadata": {
        "id": "YPV_jbAsVc9W"
      },
      "source": [
        "# Callback to Update the Output\n",
        "\n",
        "Callbacks in Dash are used to update the app's layout interactively. A callback is a function that gets automatically called by Dash whenever the input components' values change."
      ]
    },
    {
      "cell_type": "code",
      "execution_count": 29,
      "metadata": {
        "id": "Gpii6qJEUv41"
      },
      "outputs": [],
      "source": [
        "from dash.dependencies import Input, Output\n",
        "\n",
        "#Define callback to update output\n",
        "@app.callback(\n",
        "    Output('output-div','children'),\n",
        "    Input('button','n_clicks'),\n",
        "    [dash.dependencies.State('input-box','value')]\n",
        ")\n",
        "\n",
        "def update_output(n_clicks,value):\n",
        "  if n_clicks is not None:\n",
        "    return f'You have entered {value}'\n",
        "\n",
        "  return ' '"
      ]
    },
    {
      "cell_type": "markdown",
      "metadata": {
        "id": "TYKm-n5iXpYe"
      },
      "source": [
        "# Running the App\n",
        "\n",
        "To run the app, you need to call the run_server method on the app instance. This will start a web server that serves the app.\n"
      ]
    },
    {
      "cell_type": "code",
      "execution_count": 30,
      "metadata": {
        "colab": {
          "base_uri": "https://localhost:8080/",
          "height": 671
        },
        "id": "eIuZl6OHX5Qu",
        "outputId": "7d3e2986-6628-418d-91fa-600ca0447358"
      },
      "outputs": [
        {
          "data": {
            "application/javascript": "(async (port, path, width, height, cache, element) => {\n    if (!google.colab.kernel.accessAllowed && !cache) {\n      return;\n    }\n    element.appendChild(document.createTextNode(''));\n    const url = await google.colab.kernel.proxyPort(port, {cache});\n    const iframe = document.createElement('iframe');\n    iframe.src = new URL(path, url).toString();\n    iframe.height = height;\n    iframe.width = width;\n    iframe.style.border = 0;\n    iframe.allow = [\n        'accelerometer',\n        'autoplay',\n        'camera',\n        'clipboard-read',\n        'clipboard-write',\n        'gyroscope',\n        'magnetometer',\n        'microphone',\n        'serial',\n        'usb',\n        'xr-spatial-tracking',\n    ].join('; ');\n    element.appendChild(iframe);\n  })(8050, \"/\", \"100%\", 650, false, window.element)",
            "text/plain": [
              "<IPython.core.display.Javascript object>"
            ]
          },
          "metadata": {},
          "output_type": "display_data"
        }
      ],
      "source": [
        "if __name__ == '__main__':\n",
        "  app.run_server(debug=True)"
      ]
    },
    {
      "cell_type": "markdown",
      "metadata": {
        "id": "mDnAu0yJYOM-"
      },
      "source": [
        "# Example: Adding a Text Area\n",
        "\n",
        "You can add a text area to your Dash app using the dcc.Textarea component. This component allows the user to input multiline text."
      ]
    },
    {
      "cell_type": "code",
      "execution_count": 31,
      "metadata": {
        "id": "V03ES9reYMk-"
      },
      "outputs": [],
      "source": [
        "app.layout = html.Div([\n",
        "    html.H1(\"Chatbot\", style={'textAlign': 'center'}),\n",
        "    dcc.Textarea(\n",
        "        id='user-input',\n",
        "        value='Type your question here...',\n",
        "        style={'width': '100%', 'height': 100}\n",
        "    ),\n",
        "    html.Button('Submit', id='submit-button', n_clicks=0),\n",
        "    html.Div(id='chatbot-output', style={'padding': '10px'})\n",
        "])"
      ]
    },
    {
      "cell_type": "markdown",
      "metadata": {
        "id": "BcYywW9laq4A"
      },
      "source": [
        "# Example: Creating a Chatbot response\n",
        "\n",
        "We can create a simple chatbot response by defining a callback function that takes user input and generate response."
      ]
    },
    {
      "cell_type": "code",
      "execution_count": 32,
      "metadata": {
        "id": "SchnP-ThbDWO"
      },
      "outputs": [],
      "source": [
        "#Define callback to update chatbot response\n",
        "@app.callback(\n",
        "    Output('chatbot_output','children'),\n",
        "    Input('submit-button','n_clicks'),\n",
        "    [dash.dependencies.State('user-input','value')]\n",
        ")\n",
        "\n",
        "def update_output(n_clicks, user_input):\n",
        "  if n_clicks > 0:\n",
        "    return html.Div([\n",
        "        html.P(f\"You : {user_input}\",style={'margin' : '10px'}),\n",
        "        html.P(f\"Bot : I am training now, ask something else.\",style = {'margin': '10px', 'backgroundColor' : '#f0f0f0'})\n",
        "    ])\n",
        "  return \"Ask me something!\""
      ]
    },
    {
      "cell_type": "code",
      "execution_count": 32,
      "metadata": {
        "id": "eU5K5VphdMKd"
      },
      "outputs": [],
      "source": []
    }
  ],
  "metadata": {
    "colab": {
      "authorship_tag": "ABX9TyOk0IAxK0HqO2jnGgq2DYex",
      "include_colab_link": true,
      "provenance": []
    },
    "kernelspec": {
      "display_name": "Python 3",
      "name": "python3"
    },
    "language_info": {
      "name": "python"
    }
  },
  "nbformat": 4,
  "nbformat_minor": 0
}
