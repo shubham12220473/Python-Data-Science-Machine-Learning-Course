{
  "cells": [
    {
      "cell_type": "markdown",
      "metadata": {
        "id": "WPVNTfV4W5Jb"
      },
      "source": [
        "**Functions**\n",
        "\n",
        "**Definition:** A function is a block of reusable code that performs a specific task, Functions help to modularze code, making it more organized and maintainable.\n",
        "\n",
        "**Use Case in Real Life:** Functions can be used to calculate the total price of terms in a shopping cart, including tax and discounts. This keeps the code clean and organized by separating the calculation logic from the rest of the application"
      ]
    },
    {
      "cell_type": "code",
      "execution_count": 2,
      "metadata": {
        "colab": {
          "base_uri": "https://localhost:8080/"
        },
        "id": "Bd3x_WliRN5k",
        "outputId": "1a35216e-83f0-4971-e28e-8896d5608fc3"
      },
      "outputs": [
        {
          "name": "stdout",
          "output_type": "stream",
          "text": [
            "5\n"
          ]
        }
      ],
      "source": [
        "#Simple Function\n",
        "def add_numbers(a,b):\n",
        "  return a+b\n",
        "\n",
        "print(add_numbers(2,3))"
      ]
    },
    {
      "cell_type": "code",
      "execution_count": 3,
      "metadata": {
        "colab": {
          "base_uri": "https://localhost:8080/"
        },
        "id": "4O1Zq9_eZSp2",
        "outputId": "252cea62-b065-4011-c047-574e49f2e188"
      },
      "outputs": [
        {
          "name": "stdout",
          "output_type": "stream",
          "text": [
            "Hello,Alice!\n",
            "Hi,Bob!\n"
          ]
        }
      ],
      "source": [
        "#Function with default argument\n",
        "def greet(name,message=\"Hello\"):\n",
        "  return f\"{message},{name}!\"\n",
        "\n",
        "print(greet(\"Alice\"))\n",
        "print(greet(\"Bob\",\"Hi\"))"
      ]
    },
    {
      "cell_type": "code",
      "execution_count": 4,
      "metadata": {
        "colab": {
          "base_uri": "https://localhost:8080/"
        },
        "id": "vTK1rnJwZ_Uc",
        "outputId": "1623e4be-7f07-44ed-fe8b-cba5d9c30500"
      },
      "outputs": [
        {
          "name": "stdout",
          "output_type": "stream",
          "text": [
            "15\n"
          ]
        }
      ],
      "source": [
        "#Function with variable length argument\n",
        "def add_numbers(*args):\n",
        "  return sum(args)\n",
        "\n",
        "print(add_numbers(1,2,3,4,5))"
      ]
    },
    {
      "cell_type": "code",
      "execution_count": 8,
      "metadata": {
        "colab": {
          "base_uri": "https://localhost:8080/"
        },
        "id": "9sTInbSKadMa",
        "outputId": "9b9ad04d-a631-4102-ab1f-724382e8a0e5"
      },
      "outputs": [
        {
          "name": "stdout",
          "output_type": "stream",
          "text": [
            "name : Alice\n",
            "age : 30\n",
            "city : New York\n"
          ]
        }
      ],
      "source": [
        "#Function with keyword arguments\n",
        "def display_info(**kwargs):\n",
        "  for key,value in kwargs.items():\n",
        "    print(f\"{key} : {value}\")\n",
        "\n",
        "display_info(name=\"Alice\",age=30,city=\"New York\")"
      ]
    },
    {
      "cell_type": "code",
      "execution_count": 9,
      "metadata": {
        "colab": {
          "base_uri": "https://localhost:8080/"
        },
        "id": "zoIrQ0yAbcOS",
        "outputId": "baf87dba-79d6-4286-e79f-bfb388e9ce77"
      },
      "outputs": [
        {
          "data": {
            "text/plain": [
              "6"
            ]
          },
          "execution_count": 9,
          "metadata": {},
          "output_type": "execute_result"
        }
      ],
      "source": [
        "#Higher Order Function\n",
        "def apply_function(func,a,b):\n",
        "  return func(a,b)\n",
        "\n",
        "def multiply(a,b):\n",
        "  return a*b\n",
        "\n",
        "apply_function(multiply,2,3)"
      ]
    },
    {
      "cell_type": "markdown",
      "metadata": {
        "id": "oHawkXSEdOdo"
      },
      "source": [
        "**Lambda Expressions**\n",
        "\n",
        "\n",
        "**Definition:** Lambda expressions, also known as anonymous functions, are small, unnamed functions defined using the \"lambda\" **keyword**. They are often used for short, throwaway functions.\n",
        "\n",
        "**Use Case in Real Life:** Lambda expressions are commonly used in sorting algorithms where a custom sorting key is needed. For example, sorting a list of tuples by the second element can be achieved using a lambda function."
      ]
    },
    {
      "cell_type": "code",
      "execution_count": 14,
      "metadata": {
        "colab": {
          "base_uri": "https://localhost:8080/"
        },
        "id": "Rpej_bTscKEx",
        "outputId": "ffc7476f-faae-44f3-ae07-bd8f5702dfdb"
      },
      "outputs": [
        {
          "name": "stdout",
          "output_type": "stream",
          "text": [
            "25\n"
          ]
        }
      ],
      "source": [
        "#Simple Lambda Function\n",
        "square = lambda x : x * x\n",
        "\n",
        "print(square(5))"
      ]
    },
    {
      "cell_type": "code",
      "execution_count": 15,
      "metadata": {
        "colab": {
          "base_uri": "https://localhost:8080/"
        },
        "id": "D0e9Ux0ztD3I",
        "outputId": "461dc3f5-dd8e-44d9-ad3a-c84c22b1b796"
      },
      "outputs": [
        {
          "name": "stdout",
          "output_type": "stream",
          "text": [
            "[1, 4, 9, 16, 25, 36]\n"
          ]
        }
      ],
      "source": [
        "#Lambda function in `map`\n",
        "numbers = [1,2,3,4,5,6]\n",
        "squares = list(map(lambda x : x*x,numbers))\n",
        "\n",
        "\n",
        "print(squares)"
      ]
    },
    {
      "cell_type": "code",
      "execution_count": 16,
      "metadata": {
        "colab": {
          "base_uri": "https://localhost:8080/"
        },
        "id": "Dv9MVpyYt-DJ",
        "outputId": "a50032b8-5a01-4eef-fb76-6db6726e988d"
      },
      "outputs": [
        {
          "name": "stdout",
          "output_type": "stream",
          "text": [
            "[2, 4, 6]\n"
          ]
        }
      ],
      "source": [
        "#Lambda function in `filter`\n",
        "numbers = [1,2,3,4,5,6]\n",
        "even_numbers = list(filter(lambda x : x %2 == 0, numbers))\n",
        "\n",
        "print(even_numbers)"
      ]
    },
    {
      "cell_type": "code",
      "execution_count": 17,
      "metadata": {
        "colab": {
          "base_uri": "https://localhost:8080/"
        },
        "id": "rjrUa9Umv_nN",
        "outputId": "15d7e884-d4db-43a3-ded7-b2d8141d97bd"
      },
      "outputs": [
        {
          "name": "stdout",
          "output_type": "stream",
          "text": [
            "[('Bob', 20), ('Charlie', 23), ('Alice', 25)]\n"
          ]
        }
      ],
      "source": [
        "#Lambda function in `sorted`\n",
        "students = [(\"Alice\",25) , (\"Bob\",20) , (\"Charlie\",23)]\n",
        "soretd_students = sorted(students , key = lambda student : student[1])\n",
        "\n",
        "print(soretd_students)"
      ]
    },
    {
      "cell_type": "markdown",
      "metadata": {
        "id": "saNr2sX3z6EP"
      },
      "source": [
        "**Error Handling**\n",
        "\n",
        "**Definition:** Error handling in Python is done using try, except, else, and finally blocks. It allows you to handle exceptions gracefully and ensure that the program continues to run.\n",
        "\n",
        "**Use Case in Real Life:** Error handling is crucial in web applications to handle unexpected situations, such as database connection errors or invalid user inputs. Proper error handling ensures that the application can provide meaningful error messages to users and recover from errors without crashing"
      ]
    },
    {
      "cell_type": "code",
      "execution_count": 18,
      "metadata": {
        "colab": {
          "base_uri": "https://localhost:8080/"
        },
        "id": "yiwQtV9EzRdb",
        "outputId": "b6862d1c-5e3e-447f-c937-509dfb5aa7f1"
      },
      "outputs": [
        {
          "name": "stdout",
          "output_type": "stream",
          "text": [
            "Cannot divide by zero\n"
          ]
        }
      ],
      "source": [
        "#Basic Try-Except Block\n",
        "try:\n",
        "  #Code that my raise an exception\n",
        "  result = 10 / 0\n",
        "except ZeroDivisionError :\n",
        "  #Code to handle the exception\n",
        "  print(\"Cannot divide by zero\")"
      ]
    },
    {
      "cell_type": "code",
      "execution_count": 19,
      "metadata": {
        "colab": {
          "base_uri": "https://localhost:8080/"
        },
        "id": "CtrL3D-L1VEQ",
        "outputId": "d6eecdee-3e12-4d90-b4e3-54f1d57bb95e"
      },
      "outputs": [
        {
          "name": "stdout",
          "output_type": "stream",
          "text": [
            "Division Successful!\n"
          ]
        }
      ],
      "source": [
        "#Basic Try-Except-Else Block\n",
        "try:\n",
        "  #Code that my raise an exception\n",
        "  result = 10 / 2\n",
        "except ZeroDivisionError :\n",
        "  #Code to handle the exception\n",
        "  print(\"Cannot divide by zero\")\n",
        "else:\n",
        "  #Code to execute if no exception is raised\n",
        "  print(\"Division Successful!\")"
      ]
    },
    {
      "cell_type": "code",
      "execution_count": 21,
      "metadata": {
        "colab": {
          "base_uri": "https://localhost:8080/"
        },
        "id": "4iXJGw_W1wsX",
        "outputId": "ed886e0b-746d-4cd8-c67b-a0596645052b"
      },
      "outputs": [
        {
          "name": "stdout",
          "output_type": "stream",
          "text": [
            "Cannot divide by zero\n",
            "Division Successful!\n"
          ]
        }
      ],
      "source": [
        "#Try - Except - Finally Block\n",
        "try:\n",
        "  #Code that my raise an exception\n",
        "  result = 10 / 0\n",
        "except ZeroDivisionError :\n",
        "  #Code to handle the exception\n",
        "  print(\"Cannot divide by zero\")\n",
        "finally:\n",
        "  #Code to execute regardless of exception\n",
        "  print(\"Division Successful!\")"
      ]
    },
    {
      "cell_type": "code",
      "execution_count": 23,
      "metadata": {
        "colab": {
          "base_uri": "https://localhost:8080/"
        },
        "id": "wyDyUBWe2hrC",
        "outputId": "1e77a69a-1bce-4ccf-83ed-1b280fde0168"
      },
      "outputs": [
        {
          "name": "stdout",
          "output_type": "stream",
          "text": [
            "Enter the number: 0\n",
            "Cannot divide by zero\n"
          ]
        }
      ],
      "source": [
        "#Handling Multiple Exceptions\n",
        "try:\n",
        "  #Code that my raise an exception\n",
        "  number = int(input(\"Enter the number: \"))\n",
        "  result = 10/number\n",
        "except ValueError:\n",
        "  #Code to handle exception\n",
        "  print(\"Invalid Input !\")\n",
        "except ZeroDivisionError:\n",
        "  #Code to handle exception\n",
        "  print(\"Cannot divide by zero\")\n"
      ]
    },
    {
      "cell_type": "code",
      "execution_count": 24,
      "metadata": {
        "colab": {
          "base_uri": "https://localhost:8080/"
        },
        "id": "PkxW_cGy3Xqw",
        "outputId": "10f8472e-fe49-4182-e87e-dd09994557e4"
      },
      "outputs": [
        {
          "name": "stdout",
          "output_type": "stream",
          "text": [
            "Number must be positive\n"
          ]
        }
      ],
      "source": [
        "#Raising Exception\n",
        "def check_positive(number):\n",
        "  if number <= 0 :\n",
        "    raise ValueError(\"Number must be positive\")\n",
        "\n",
        "try:\n",
        "  check_positive(-5)\n",
        "except ValueError as e:\n",
        "  print(e)\n"
      ]
    },
    {
      "cell_type": "code",
      "execution_count": null,
      "metadata": {
        "id": "BD2TEWyJ34MF"
      },
      "outputs": [],
      "source": []
    }
  ],
  "metadata": {
    "colab": {
      "authorship_tag": "ABX9TyP67j3LCnVJgyc68broIcIT",
      "include_colab_link": true,
      "provenance": []
    },
    "kernelspec": {
      "display_name": "Python 3",
      "name": "python3"
    },
    "language_info": {
      "name": "python"
    }
  },
  "nbformat": 4,
  "nbformat_minor": 0
}
